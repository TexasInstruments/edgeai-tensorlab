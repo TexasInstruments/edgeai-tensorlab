{
 "cells": [
  {
   "cell_type": "markdown",
   "id": "3a5c3202",
   "metadata": {},
   "source": [
    "## Model Compilation Jupyter Notebook Example\n",
    "\n",
    "This notebook shows the example of model compilation using edgeai-benchmark.\n",
    "\n",
    "This script uses TIDL to compile a model and output in a format that edgeai-sdk can understand.\n",
    "\n",
    "jai_benchmark is a python package provided in edgeai-benchmark that provides several functions to assist model compilation."
   ]
  },
  {
   "cell_type": "code",
   "execution_count": 1,
   "id": "06fd730f",
   "metadata": {},
   "outputs": [],
   "source": [
    "import os\n",
    "import tempfile\n",
    "import argparse\n",
    "import cv2\n",
    "from jai_benchmark import *"
   ]
  },
  {
   "cell_type": "code",
   "execution_count": 2,
   "id": "c4f68d52",
   "metadata": {},
   "outputs": [
    {
     "name": "stdout",
     "output_type": "stream",
     "text": [
      "/data/ssd/files/a0393608/work/code/ti/edgeai-algo/edgeai-benchmark/tidl_tools\n",
      "/data/ssd/files/a0393608/work/code/ti/edgeai-algo/edgeai-benchmark\n"
     ]
    }
   ],
   "source": [
    "# the cwd must be the root of the respository\n",
    "if os.path.split(os.getcwd())[-1] in ('scripts', 'tutorials'):\n",
    "    os.chdir('../')\n",
    "#\n",
    "print(os.environ['TIDL_TOOLS_PATH'])\n",
    "print(os.getcwd())"
   ]
  },
  {
   "cell_type": "markdown",
   "id": "6e4bf6ec",
   "metadata": {},
   "source": [
    "#### Create a temporary directory. \n",
    "\n",
    "This is were the compiled artifacts will be stored."
   ]
  },
  {
   "cell_type": "code",
   "execution_count": 3,
   "id": "ed12c333",
   "metadata": {},
   "outputs": [
    {
     "name": "stdout",
     "output_type": "stream",
     "text": [
      "<TemporaryDirectory '/tmp/tmp101src05'>\n"
     ]
    }
   ],
   "source": [
    "modelartifacts_tempdir = tempfile.TemporaryDirectory()\n",
    "print(modelartifacts_tempdir)\n",
    "modelartifacts_custom = os.path.join(modelartifacts_tempdir.name, 'modelartifacts')"
   ]
  },
  {
   "cell_type": "markdown",
   "id": "f9acd99c",
   "metadata": {},
   "source": [
    "#### Read settings from settings_import_on_pc.yaml\n",
    "\n",
    "Modify the settings as necessary in the constructor of settings.ConfigSettings()"
   ]
  },
  {
   "cell_type": "code",
   "execution_count": 4,
   "id": "b5b47491",
   "metadata": {},
   "outputs": [
    {
     "name": "stdout",
     "output_type": "stream",
     "text": [
      "work_dir = /tmp/tmp101src05/modelartifacts/32bits\n"
     ]
    }
   ],
   "source": [
    "settings = config_settings.ConfigSettings('./settings_import_on_pc.yaml', \n",
    "                modelartifacts_path=modelartifacts_custom,\n",
    "                calibration_frames=10, calibration_iterations=10, num_frames=100)\n",
    "\n",
    "work_dir = os.path.join(settings.modelartifacts_path, f'{settings.tensor_bits}bits')\n",
    "print(f'work_dir = {work_dir}')"
   ]
  },
  {
   "cell_type": "markdown",
   "id": "5937d8b1",
   "metadata": {},
   "source": [
    "#### Create Dataset Reader classes\n",
    "\n",
    "Change the dataset paths according to your dataset location"
   ]
  },
  {
   "cell_type": "code",
   "execution_count": 5,
   "id": "90745b38",
   "metadata": {},
   "outputs": [],
   "source": [
    "dataset_calib_cfg = dict(\n",
    "    path=f'{settings.datasets_path}/imagenet/val',\n",
    "    split=f'{settings.datasets_path}/imagenet/val.txt',\n",
    "    num_classes=1000,\n",
    "    shuffle=True,\n",
    "    num_frames=min(settings.calibration_frames,50000),\n",
    "    name='imagenet'\n",
    ")\n",
    "\n",
    "# dataset parameters for actual inference\n",
    "dataset_val_cfg = dict(\n",
    "    path=f'{settings.datasets_path}/imagenet/val',\n",
    "    split=f'{settings.datasets_path}/imagenet/val.txt',\n",
    "    num_classes=1000,\n",
    "    shuffle=True,\n",
    "    num_frames=min(settings.num_frames,50000),\n",
    "    name='imagenet'\n",
    ")\n",
    "\n",
    "calib_dataset = datasets.ImageClassification(**dataset_calib_cfg)\n",
    "val_dataset = datasets.ImageClassification(**dataset_val_cfg)"
   ]
  },
  {
   "cell_type": "markdown",
   "id": "fb928333",
   "metadata": {},
   "source": [
    "#### Session runtime_options\n",
    "\n",
    "The default runtime_options can be overriden by passing a runtime_options dict to this function"
   ]
  },
  {
   "cell_type": "code",
   "execution_count": 6,
   "id": "bd0b4f8b",
   "metadata": {},
   "outputs": [
    {
     "name": "stdout",
     "output_type": "stream",
     "text": [
      "<class 'jai_benchmark.sessions.tflitert_session.TFLiteRTSession'>\n",
      "{'tensor_bits': 32, 'accuracy_level': 1, 'debug_level': 0, 'priority': 0, 'advanced_options:high_resolution_optimization': 0, 'advanced_options:pre_batchnorm_fold': 1, 'advanced_options:calibration_frames': 10, 'advanced_options:calibration_iterations': 10, 'advanced_options:quantization_scale_type': 0, 'advanced_options:activation_clipping': 1, 'advanced_options:weight_clipping': 1, 'advanced_options:bias_calibration': 1, 'advanced_options:channel_wise_quantization': 0, 'advanced_options:output_feature_16bit_names_list': '', 'advanced_options:params_16bit_names_list': '', 'advanced_options:add_data_convert_ops': 3}\n"
     ]
    }
   ],
   "source": [
    "# choose one session_name depending on the model type\n",
    "# tflitert for tflite models, onnxrt for onnx models, tvmdlr for mxnet models.\n",
    "session_name = constants.SESSION_NAME_TFLITERT\n",
    "#session_name = constants.SESSION_NAME_ONNXRT\n",
    "#session_name = constants.SESSION_NAME_TVMDLR\n",
    "\n",
    "session_type = settings.get_session_type(session_name)\n",
    "runtime_options = settings.get_runtime_options(session_name, is_qat=False)\n",
    "\n",
    "print(session_type)\n",
    "print(runtime_options)"
   ]
  },
  {
   "cell_type": "code",
   "execution_count": 11,
   "id": "d9b774e5",
   "metadata": {},
   "outputs": [],
   "source": [
    "preproc_transforms = preprocess.PreProcessTransforms(settings)\n",
    "postproc_transforms = postprocess.PostProcessTransforms(settings)\n",
    "\n",
    "# these session cfgs also has some default input mean and scale. \n",
    "# if your model needs a difference mean and scale, update the session cfg dict being used with those values\n",
    "onnx_session_cfg = sessions.get_onnx_session_cfg(settings, work_dir=work_dir)\n",
    "tflite_session_cfg = sessions.get_tflite_session_cfg(settings, work_dir=work_dir)"
   ]
  },
  {
   "cell_type": "markdown",
   "id": "a34d9087",
   "metadata": {},
   "source": [
    "#### Create pipeline_configs\n",
    "\n",
    "pipeline_configs is nothing but a dict with the various model configs that we want to compile"
   ]
  },
  {
   "cell_type": "code",
   "execution_count": 9,
   "id": "81db0343",
   "metadata": {},
   "outputs": [
    {
     "name": "stdout",
     "output_type": "stream",
     "text": [
      "{'cl-mnv2': {'task_type': 'classification', 'calibration_dataset': <jai_benchmark.datasets.image_cls.ImageClassification object at 0x7ff383268588>, 'input_dataset': <jai_benchmark.datasets.image_cls.ImageClassification object at 0x7ff383268518>, 'preprocess': <jai_benchmark.preprocess.PreProcessTransforms object at 0x7ff383268668>, 'session': <jai_benchmark.sessions.tflitert_session.TFLiteRTSession object at 0x7ff383268ba8>, 'postprocess': <jai_benchmark.postprocess.PostProcessTransforms object at 0x7ff3832687b8>, 'metric': {'label_offset_pred': -1}, 'model_info': {'metric_reference': {'accuracy_top1%': 71.9}}}}\n"
     ]
    }
   ],
   "source": [
    "pipeline_configs = {\n",
    "    'cl-mnv2': dict(\n",
    "        task_type='classification',\n",
    "        calibration_dataset=calib_dataset,\n",
    "        input_dataset=val_dataset,\n",
    "        preprocess=preproc_transforms.get_transform_tflite(),\n",
    "        session=session_type(**tflite_session_cfg,\n",
    "            runtime_options=runtime_options,\n",
    "            model_path=f'{settings.models_path}/vision/classification/imagenet1k/tf1-models/mobilenet_v2_1.0_224.tflite'),\n",
    "        postprocess=postproc_transforms.get_transform_classification(),\n",
    "        metric=dict(label_offset_pred=-1),\n",
    "        model_info=dict(metric_reference={'accuracy_top1%':71.9})\n",
    "    ),\n",
    "}\n",
    "print(pipeline_configs)"
   ]
  },
  {
   "cell_type": "markdown",
   "id": "2a71fc46",
   "metadata": {},
   "source": [
    "#### Model Compilation\n",
    "\n",
    "This will take a few minutes. Please be patient..."
   ]
  },
  {
   "cell_type": "code",
   "execution_count": 10,
   "id": "26c124a3",
   "metadata": {},
   "outputs": [
    {
     "name": "stdout",
     "output_type": "stream",
     "text": [
      "configs to run: ['cl-mnv2_tflitert_imagenet1k_tf1-models_mobilenet_v2_1.0_224_tflite']\n",
      "number of configs: 1\n"
     ]
    },
    {
     "data": {
      "application/vnd.jupyter.widget-view+json": {
       "model_id": "1674b15dd2014caeb475565f35bde525",
       "version_major": 2,
       "version_minor": 0
      },
      "text/plain": [
       "TASKS                                                       |   0%|          || 0/1 [00:00<?, ?it/s]"
      ]
     },
     "metadata": {},
     "output_type": "display_data"
    },
    {
     "name": "stdout",
     "output_type": "stream",
     "text": [
      "TASKS                                                       |          |     0% 0/1| [< ]\u001b[34m\n",
      "INFO:\u001b[33m20220329-160924: starting process on parallel_device - \u001b[39m0\n",
      "\u001b[34mINFO:\u001b[33m20220329-160924: model_path - \u001b[39m/data/ssd/files/a0393608/work/code/ti/edgeai-algo/edgeai-modelzoo/models/vision/classification/imagenet1k/tf1-models/mobilenet_v2_1.0_224.tflite\n",
      "\u001b[34mINFO:\u001b[33m20220329-160924: model_file - \u001b[39m/tmp/tmp101src05/modelartifacts/32bits/cl-mnv2_tflitert_imagenet1k_tf1-models_mobilenet_v2_1.0_224_tflite/model/mobilenet_v2_1.0_224.tflite\n",
      "Downloading 1/1: /data/ssd/files/a0393608/work/code/ti/edgeai-algo/edgeai-modelzoo/models/vision/classification/imagenet1k/tf1-models/mobilenet_v2_1.0_224.tflite\n",
      "Download done for /data/ssd/files/a0393608/work/code/ti/edgeai-algo/edgeai-modelzoo/models/vision/classification/imagenet1k/tf1-models/mobilenet_v2_1.0_224.tflite\n",
      "/tmp/tmp101src05/modelartifacts/32bits/cl-mnv2_tflitert_imagenet1k_tf1-models_mobilenet_v2_1.0_224_tflite/model/mobilenet_v2_1.0_224.tflite\n",
      "\u001b[34m\n",
      "INFO:\u001b[33m20220329-160925: running - \u001b[39mcl-mnv2_tflitert_imagenet1k_tf1-models_mobilenet_v2_1.0_224_tflite\u001b[34m\n",
      "INFO:\u001b[33m20220329-160925: pipeline_config - \u001b[39m{'task_type': 'classification', 'calibration_dataset': <jai_benchmark.datasets.image_cls.ImageClassification object at 0x7ff383259400>, 'input_dataset': <jai_benchmark.datasets.image_cls.ImageClassification object at 0x7ff383259438>, 'preprocess': <jai_benchmark.preprocess.PreProcessTransforms object at 0x7ff383259240>, 'session': <jai_benchmark.sessions.tflitert_session.TFLiteRTSession object at 0x7ff3832593c8>, 'postprocess': <jai_benchmark.postprocess.PostProcessTransforms object at 0x7ff383259588>, 'metric': {'label_offset_pred': -1}, 'model_info': {'metric_reference': {'accuracy_top1%': 71.9}}}\u001b[34m\n",
      "INFO:\u001b[33m20220329-160925: import  - \u001b[39mcl-mnv2_tflitert_imagenet1k_tf1-models_mobilenet_v2_1.0_224_tflite\u001b[34m\n",
      "INFO:\u001b[33m20220329-160928: import completed  - \u001b[39mcl-mnv2_tflitert_imagenet1k_tf1-models_mobilenet_v2_1.0_224_tflite - 3 sec\u001b[34m\n",
      "INFO:\u001b[33m20220329-160928: infer  - \u001b[39mcl-mnv2_tflitert_imagenet1k_tf1-models_mobilenet_v2_1.0_224_tflite"
     ]
    },
    {
     "data": {
      "application/vnd.jupyter.widget-view+json": {
       "model_id": "b81ae41763304a4bbf3effd1302215dc",
       "version_major": 2,
       "version_minor": 0
      },
      "text/plain": [
       "infer : cl-mnv2_tflitert_imagenet1k_tf1-models_mobilenet_v2_|   0%|          || 0/100 [00:00<?, ?it/s]"
      ]
     },
     "metadata": {},
     "output_type": "display_data"
    },
    {
     "name": "stdout",
     "output_type": "stream",
     "text": [
      "infer : cl-mnv2_tflitert_imagenet1k_tf1-models_mobilenet_v2_|          |     0% 0/100| [< ]\u001b[34m\n",
      "INFO:\u001b[33m20220329-160954: infer completed  - \u001b[39mcl-mnv2_tflitert_imagenet1k_tf1-models_mobilenet_v2_1.0_224_tflite - 26 sec\u001b[32m\n",
      "\n",
      "SUCCESS:\u001b[33m20220329-160954: benchmark results - \u001b[39m{'infer_path': 'cl-mnv2_tflitert_imagenet1k_tf1-models_mobilenet_v2_1.0_224_tflite', 'accuracy_top1%': 79.0, 'num_subgraphs': 1, 'infer_time_core_ms': 255.939395, 'infer_time_subgraph_ms': 255.925773, 'ddr_transfer_mb': 0.0, 'perfsim_time_ms': 0.0, 'perfsim_ddr_transfer_mb': 0.0, 'perfsim_gmacs': 0.0}\n",
      "\n",
      "\n"
     ]
    }
   ],
   "source": [
    "# run the model compliation/import and inference\n",
    "tools.run_accuracy(settings, work_dir, pipeline_configs)"
   ]
  },
  {
   "cell_type": "markdown",
   "id": "7d982aa0",
   "metadata": {},
   "source": [
    "#### Package artifacts\n",
    "\n",
    "Package the artifacts into a .tar.gz file, keeping only the necessary files for inference."
   ]
  },
  {
   "cell_type": "code",
   "execution_count": 12,
   "id": "25a664e6",
   "metadata": {},
   "outputs": [
    {
     "name": "stdout",
     "output_type": "stream",
     "text": [
      "packaging artifacts to /tmp/tmp101src05/modelartifacts/32bits_package please wait...\n",
      "\u001b[32mSUCCESS:\u001b[33m20220329-161042: finished packaging - \u001b[39m/tmp/tmp101src05/modelartifacts/32bits/cl-mnv2_tflitert_imagenet1k_tf1-models_mobilenet_v2_1.0_224_tflite\n"
     ]
    }
   ],
   "source": [
    "out_dir = f'{work_dir}_package'\n",
    "tools.package_artifacts(settings, work_dir, out_dir)"
   ]
  },
  {
   "cell_type": "markdown",
   "id": "f01cc894",
   "metadata": {},
   "source": [
    "#### Download\n",
    "\n",
    "Download the packaged .tar.gz artifact\n",
    "\n",
    "TODO: add a download link here, that the user can click to download the packaged artifact .tar.gz file."
   ]
  },
  {
   "cell_type": "code",
   "execution_count": 13,
   "id": "514f7dac",
   "metadata": {},
   "outputs": [
    {
     "name": "stdout",
     "output_type": "stream",
     "text": [
      "download the atricats files from the folder: /tmp/tmp101src05/modelartifacts/32bits_package\n",
      "['artifacts.yaml', 'artifacts.list', 'extract.sh', 'cl-mnv2_tflitert_imagenet1k_tf1-models_mobilenet_v2_1.0_224_tflite.tar.gz']\n"
     ]
    }
   ],
   "source": [
    "print(f'download the atricats files from the folder: {out_dir}')\n",
    "print(os.listdir(out_dir))"
   ]
  },
  {
   "cell_type": "markdown",
   "id": "85bad73d",
   "metadata": {},
   "source": [
    "#### Cleanup\n",
    "\n",
    "Remove the temporary folders that we created"
   ]
  },
  {
   "cell_type": "code",
   "execution_count": 14,
   "id": "f6230cab",
   "metadata": {},
   "outputs": [],
   "source": [
    "# cleanup\n",
    "modelartifacts_tempdir.cleanup()"
   ]
  },
  {
   "cell_type": "code",
   "execution_count": null,
   "id": "7453d5fb",
   "metadata": {},
   "outputs": [],
   "source": []
  }
 ],
 "metadata": {
  "kernelspec": {
   "display_name": "Python 3",
   "language": "python",
   "name": "python3"
  },
  "language_info": {
   "codemirror_mode": {
    "name": "ipython",
    "version": 3
   },
   "file_extension": ".py",
   "mimetype": "text/x-python",
   "name": "python",
   "nbconvert_exporter": "python",
   "pygments_lexer": "ipython3",
   "version": "3.6.13"
  }
 },
 "nbformat": 4,
 "nbformat_minor": 5
}
