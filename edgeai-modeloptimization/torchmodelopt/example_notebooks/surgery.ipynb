{
 "cells": [
  {
   "cell_type": "markdown",
   "metadata": {},
   "source": [
    "This iPythonNotebook can be used to experiment with the surgery toolkit, where the user will be able to modify the network with their rules. The modified network can be itself used to further train on the desired dataset. This allows user to easily modify any network."
   ]
  },
  {
   "cell_type": "code",
   "execution_count": 1,
   "metadata": {},
   "outputs": [
    {
     "name": "stdout",
     "output_type": "stream",
     "text": [
      "Collecting netron\n",
      "  Downloading netron-7.8.5-py3-none-any.whl (1.7 MB)\n",
      "\u001b[2K     \u001b[90m━━━━━━━━━━━━━━━━━━━━━━━━━━━━━━━━━━━━━━━━\u001b[0m \u001b[32m1.7/1.7 MB\u001b[0m \u001b[31m2.9 MB/s\u001b[0m eta \u001b[36m0:00:00\u001b[0m00:01\u001b[0m00:01\u001b[0m\n",
      "\u001b[?25hInstalling collected packages: netron\n",
      "Successfully installed netron-7.8.5\n",
      "\u001b[33mWARNING: There was an error checking the latest version of pip.\u001b[0m\u001b[33m\n",
      "\u001b[0m"
     ]
    }
   ],
   "source": [
    "!pip install netron\n",
    "\n",
    "import torch\n",
    "import torch.nn as nn\n",
    "import edgeai_torchmodelopt\n",
    "import copy\n",
    "import netron"
   ]
  },
  {
   "cell_type": "markdown",
   "metadata": {},
   "source": [
    "The required imports are done, netron is installed and used to visualize the network. "
   ]
  },
  {
   "cell_type": "code",
   "execution_count": 2,
   "metadata": {},
   "outputs": [
    {
     "name": "stdout",
     "output_type": "stream",
     "text": [
      "SimpleNetwork(\n",
      "  (conv0): Conv2d(3, 32, kernel_size=(3, 3), stride=(2, 2), padding=(1, 1))\n",
      "  (bn0): BatchNorm2d(32, eps=1e-05, momentum=0.1, affine=True, track_running_stats=True)\n",
      "  (relu0): ReLU()\n",
      "  (conv1): Conv2d(32, 32, kernel_size=(3, 3), stride=(2, 2), padding=(1, 1))\n",
      "  (bn1): BatchNorm2d(32, eps=1e-05, momentum=0.1, affine=True, track_running_stats=True)\n",
      "  (relu1): ReLU()\n",
      "  (conv2): Conv2d(32, 32, kernel_size=(3, 3), stride=(2, 2), padding=(1, 1))\n",
      "  (bn2): BatchNorm2d(32, eps=1e-05, momentum=0.1, affine=True, track_running_stats=True)\n",
      "  (relu2): ReLU()\n",
      ")\n",
      "Output Shape is : torch.Size([1, 32, 28, 28])\n"
     ]
    }
   ],
   "source": [
    "class SimpleNetwork(nn.Module):\n",
    "    def __init__(self):\n",
    "        super().__init__()\n",
    "        self.conv0 = nn.Conv2d(3, 32, 3, padding=1, stride=2)\n",
    "        self.bn0 = nn.BatchNorm2d(32)\n",
    "        self.relu0 = nn.ReLU()\n",
    "        \n",
    "        self.conv1 = nn.Conv2d(32, 32, 3, padding=1, stride=2)\n",
    "        self.bn1 = nn.BatchNorm2d(32)\n",
    "        self.relu1 = nn.ReLU()\n",
    "        \n",
    "        self.conv2 = nn.Conv2d(32, 32, 3, padding=1, stride=2)\n",
    "        self.bn2 = nn.BatchNorm2d(32)\n",
    "        self.relu2 = nn.ReLU()\n",
    "        \n",
    "    def forward(self, x):\n",
    "        x = self.conv0(x)\n",
    "        x = self.bn0(x)\n",
    "        x = self.relu0(x)\n",
    "    \n",
    "        x = self.conv1(x)\n",
    "        x = self.bn1(x)\n",
    "        x = self.relu1(x)\n",
    "    \n",
    "        x = self.conv2(x)\n",
    "        x = self.bn2(x)\n",
    "        x = self.relu2(x)\n",
    "    \n",
    "        return x\n",
    "    \n",
    "model = SimpleNetwork()\n",
    "example_input = torch.ones((1, 3, 224, 224))\n",
    "\n",
    "y = model(example_input)\n",
    "print(model)\n",
    "print(\"Output Shape is : {}\".format(y.shape))"
   ]
  },
  {
   "cell_type": "code",
   "execution_count": 3,
   "metadata": {},
   "outputs": [
    {
     "name": "stdout",
     "output_type": "stream",
     "text": [
      "Serving './orig_simple_network_surgery.onnx' at http://localhost:8081\n"
     ]
    },
    {
     "data": {
      "text/plain": [
       "('localhost', 8081)"
      ]
     },
     "execution_count": 3,
     "metadata": {},
     "output_type": "execute_result"
    }
   ],
   "source": [
    "model_export_name = \"./orig_simple_network_surgery.onnx\"\n",
    "torch.onnx.export(model, example_input, model_export_name)\n",
    "netron.start(model_export_name, 8081)"
   ]
  },
  {
   "cell_type": "markdown",
   "metadata": {},
   "source": [
    "We can get a default dictionary for optimization based on the most optimal conversions for TIDL. These changes might require re-training of the network. The user can use the flag : can_retrain=False, to only do the modifications which do not require retraining. The replacement dictionary can be defined by the user as well."
   ]
  },
  {
   "cell_type": "code",
   "execution_count": 4,
   "metadata": {},
   "outputs": [
    {
     "name": "stdout",
     "output_type": "stream",
     "text": [
      "None ---> <class 'torch.nn.modules.linear.Identity'>\n",
      "\n",
      "SEModule(\n",
      "  (sequence): Sequential(\n",
      "    (0): AdaptiveAvgPool2d(output_size=1)\n",
      "    (1): Conv2d(16, 32, kernel_size=(1, 1), stride=(1, 1))\n",
      "    (2): ReLU()\n",
      "    (3): Conv2d(32, 16, kernel_size=(1, 1), stride=(1, 1))\n",
      "    (4): Hardsigmoid()\n",
      "  )\n",
      ") ---> Identity()\n",
      "\n",
      "SEModule1(\n",
      "  (sequence): Sequential(\n",
      "    (0): AdaptiveAvgPool2d(output_size=1)\n",
      "    (1): Conv2d(16, 32, kernel_size=(1, 1), stride=(1, 1))\n",
      "    (2): SiLU()\n",
      "    (3): Conv2d(32, 16, kernel_size=(1, 1), stride=(1, 1))\n",
      "    (4): Sigmoid()\n",
      "  )\n",
      ") ---> Identity()\n",
      "\n",
      "se_layer ---> <function replace_se_layer at 0x79afd651e560>\n",
      "\n",
      "<class 'torch.nn.modules.activation.ReLU'> ---> <class 'torch.nn.modules.activation.ReLU'>\n",
      "\n",
      "<class 'torch.nn.modules.activation.GELU'> ---> <class 'torch.nn.modules.activation.ReLU'>\n",
      "\n",
      "<class 'torch.nn.modules.activation.ReLU6'> ---> <class 'torch.nn.modules.activation.ReLU'>\n",
      "\n",
      "<class 'torch.nn.modules.activation.SiLU'> ---> <class 'torch.nn.modules.activation.ReLU'>\n",
      "\n",
      "<class 'torch.nn.modules.activation.Hardswish'> ---> <class 'torch.nn.modules.activation.ReLU'>\n",
      "\n",
      "<class 'torch.nn.modules.activation.Hardsigmoid'> ---> <class 'torch.nn.modules.activation.ReLU'>\n",
      "\n",
      "<class 'torch.nn.modules.activation.LeakyReLU'> ---> <class 'torch.nn.modules.activation.ReLU'>\n",
      "\n",
      "<class 'torch.nn.modules.dropout.Dropout'> ---> <class 'torch.nn.modules.dropout.Dropout'>\n",
      "\n",
      "CNBlock ---> <function replace_cnblock at 0x79afd651e440>\n",
      "\n",
      "maxpool_ge_5 ---> <function replace_maxpool2d_kernel_size_ge_5 at 0x79afd651e200>\n",
      "\n",
      "avgpool_ge_5 ---> <function replace_avgpool2d_kernel_size_ge_5 at 0x79afd651e290>\n",
      "\n",
      "upsample ---> <function replace_resize_with_scale_factor at 0x79afd651c8b0>\n",
      "\n",
      "conv_6 ---> <function replace_conv2d_kernel_size_6 at 0x79afd651e3b0>\n",
      "\n"
     ]
    }
   ],
   "source": [
    "replacement_flags = copy.deepcopy(edgeai_torchmodelopt.xmodelopt.surgery.v2.get_replacement_flag_dict_default())\n",
    "replacement_dict = edgeai_torchmodelopt.xmodelopt.surgery.v2.get_replacement_dict(replacement_flags)\n",
    "for orig, replace in replacement_dict.items():\n",
    "    print(str(orig) + \" ---> \" + str(replace) + \"\\n\")\n"
   ]
  },
  {
   "cell_type": "markdown",
   "metadata": {},
   "source": [
    "The replacement dictionary can be defined by the user as well. Multiple other methods including functions are supported which can be read more about [over here](../edgeai_torchmodelopt/xmodelopt/surgery/v2/docs/details.md) under the different-types-of-possible-replacement-rules section.\n",
    "The converted model can be obtained by a simple call to edgeai_torchmodelopt.xmodelopt.surgery.v2.convert_to_lite_fx function."
   ]
  },
  {
   "cell_type": "code",
   "execution_count": 5,
   "metadata": {},
   "outputs": [
    {
     "name": "stdout",
     "output_type": "stream",
     "text": [
      "SimpleNetwork(\n",
      "  (conv0): Conv2d(3, 32, kernel_size=(3, 3), stride=(2, 2), padding=(1, 1))\n",
      "  (bn0): BatchNorm2d(32, eps=1e-05, momentum=0.1, affine=True, track_running_stats=True)\n",
      "  (relu0): ReLU()\n",
      "  (conv1): Conv2d(32, 32, kernel_size=(3, 3), stride=(2, 2), padding=(1, 1))\n",
      "  (bn1): BatchNorm2d(32, eps=1e-05, momentum=0.1, affine=True, track_running_stats=True)\n",
      "  (relu1): ReLU()\n",
      "  (conv2): Conv2d(32, 32, kernel_size=(3, 3), stride=(2, 2), padding=(1, 1))\n",
      "  (bn2): BatchNorm2d(32, eps=1e-05, momentum=0.1, affine=True, track_running_stats=True)\n",
      "  (relu2): ReLU()\n",
      ")\n",
      "\n",
      "\n",
      "\n",
      "def forward(self, x):\n",
      "    conv0 = self.conv0(x);  x = None\n",
      "    bn0 = self.bn0(conv0);  conv0 = None\n",
      "    relu0 = self.relu0(bn0);  bn0 = None\n",
      "    conv1 = self.conv1(relu0);  relu0 = None\n",
      "    bn1 = self.bn1(conv1);  conv1 = None\n",
      "    relu1 = self.relu1(bn1);  bn1 = None\n",
      "    conv2 = self.conv2(relu1);  relu1 = None\n",
      "    bn2 = self.bn2(conv2);  conv2 = None\n",
      "    relu2 = self.relu2(bn2);  bn2 = None\n",
      "    return relu2\n",
      "    \n",
      "# To see more debug info, please use `graph_module.print_readable()`\n"
     ]
    },
    {
     "name": "stderr",
     "output_type": "stream",
     "text": [
      "/data/ssd/files/a0507161/edgeai/edgeai-modeloptimization/torchmodelopt/edgeai_torchmodelopt/xmodelopt/surgery/v2/__init__.py:159: UserWarning: if <class 'torch.nn.modules.activation.ReLU'> is not a default flag or its value is not a boolean, the value must be a dict. So, this entry will be discarded!\n",
      "  warnings.warn(f'if {k} is not a default flag or its value is not a boolean, the value must be a dict. So, this entry will be discarded!')\n"
     ]
    }
   ],
   "source": [
    "replacement_dict = ({torch.nn.ReLU: torch.nn.GELU})\n",
    "converted_model = edgeai_torchmodelopt.xmodelopt.surgery.v2.convert_to_lite_fx(model, replacement_dict=replacement_dict)\n",
    "print(converted_model)"
   ]
  },
  {
   "cell_type": "code",
   "execution_count": 6,
   "metadata": {},
   "outputs": [
    {
     "name": "stdout",
     "output_type": "stream",
     "text": [
      "Stopping http://localhost:8081\n"
     ]
    },
    {
     "name": "stdout",
     "output_type": "stream",
     "text": [
      "Serving './converted_simple_network_surgery.onnx' at http://localhost:8081\n"
     ]
    },
    {
     "data": {
      "text/plain": [
       "('localhost', 8081)"
      ]
     },
     "execution_count": 6,
     "metadata": {},
     "output_type": "execute_result"
    }
   ],
   "source": [
    "model_export_name = \"./converted_simple_network_surgery.onnx\"\n",
    "torch.onnx.export(converted_model, example_input, model_export_name)\n",
    "netron.start(model_export_name, 8081)"
   ]
  }
 ],
 "metadata": {
  "kernelspec": {
   "display_name": "quant",
   "language": "python",
   "name": "python3"
  },
  "language_info": {
   "codemirror_mode": {
    "name": "ipython",
    "version": 3
   },
   "file_extension": ".py",
   "mimetype": "text/x-python",
   "name": "python",
   "nbconvert_exporter": "python",
   "pygments_lexer": "ipython3",
   "version": "3.10.13"
  }
 },
 "nbformat": 4,
 "nbformat_minor": 2
}
