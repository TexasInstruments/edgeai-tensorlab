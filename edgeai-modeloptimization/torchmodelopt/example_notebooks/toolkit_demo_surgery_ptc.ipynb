{
 "cells": [
  {
   "cell_type": "code",
   "execution_count": 1,
   "metadata": {},
   "outputs": [
    {
     "name": "stdout",
     "output_type": "stream",
     "text": [
      "Requirement already satisfied: netron in /home/a0491009/.pyenv/versions/3.10.13/envs/quant/lib/python3.10/site-packages (7.8.3)\n"
     ]
    },
    {
     "name": "stderr",
     "output_type": "stream",
     "text": [
      "/home/a0491009/.pyenv/versions/3.10.13/envs/quant/lib/python3.10/site-packages/tqdm-4.66.2-py3.10.egg/tqdm/auto.py:21: TqdmWarning: IProgress not found. Please update jupyter and ipywidgets. See https://ipywidgets.readthedocs.io/en/stable/user_install.html\n",
      "  from .autonotebook import tqdm as notebook_tqdm\n"
     ]
    }
   ],
   "source": [
    "!pip install netron\n",
    "\n",
    "import torch\n",
    "import torch.nn as nn\n",
    "from edgeai_torchmodelopt import xmodelopt\n",
    "import copy\n",
    "import netron\n",
    "import torchvision\n",
    "from tqdm import tqdm"
   ]
  },
  {
   "cell_type": "code",
   "execution_count": 2,
   "metadata": {},
   "outputs": [
    {
     "name": "stdout",
     "output_type": "stream",
     "text": [
      "Output Shape is : torch.Size([1, 1000])\n"
     ]
    }
   ],
   "source": [
    "model = torchvision.models.resnet50(weights='DEFAULT')\n",
    "example_input = torch.rand((1, 3, 224, 224))\n",
    "\n",
    "y = model(example_input)\n",
    "print(\"Output Shape is : {}\".format(y.shape))"
   ]
  },
  {
   "cell_type": "code",
   "execution_count": 3,
   "metadata": {},
   "outputs": [
    {
     "name": "stdout",
     "output_type": "stream",
     "text": [
      "Serving './orig_simple_network_ptc.onnx' at http://localhost:8080\n"
     ]
    },
    {
     "data": {
      "text/plain": [
       "('localhost', 8080)"
      ]
     },
     "execution_count": 3,
     "metadata": {},
     "output_type": "execute_result"
    }
   ],
   "source": [
    "model_export_name = \"./orig_simple_network_ptc.onnx\"\n",
    "torch.onnx.export(model, example_input, model_export_name)\n",
    "netron.start(model_export_name, 8080)"
   ]
  },
  {
   "cell_type": "code",
   "execution_count": 4,
   "metadata": {},
   "outputs": [
    {
     "name": "stdout",
     "output_type": "stream",
     "text": [
      "The surgery provides some default replacements which can be used as is. Check the \n",
      "       mapping in 'flag_to_dict_entries' in 'surgery.v3.__init__'. \n"
     ]
    },
    {
     "data": {
      "text/plain": [
       "{'squeeze_and_excite_to_identity': True,\n",
       " 'all_activation_to_relu': False,\n",
       " 'relu_inplace_to_relu': True,\n",
       " 'gelu_to_relu': True,\n",
       " 'relu6_to_relu': True,\n",
       " 'silu_to_relu': True,\n",
       " 'hardswish_to_relu': True,\n",
       " 'hardsigmoid_to_relu': True,\n",
       " 'leakyrelu_to_relu': True,\n",
       " 'dropout_inplace_to_dropout': True,\n",
       " 'break_maxpool2d_with_kernel_size_greater_than_equalto_5': True,\n",
       " 'break_avgpool2d_with_kernel_size_greater_than_equalto_5': True,\n",
       " 'convert_resize_params_size_to_scale': True,\n",
       " 'promote_conv2d_with_even_kernel_to_larger_odd_kernel': False,\n",
       " 'break_conv2d_with_kernel_size_greater_than_7': False}"
      ]
     },
     "execution_count": 4,
     "metadata": {},
     "output_type": "execute_result"
    }
   ],
   "source": [
    "from edgeai_torchmodelopt.xmodelopt.surgery.v3 import default_replacement_flag_dict\n",
    "print(\"The surgery provides some default replacements which can be used as is. Check the \\n \\\n",
    "      mapping in 'flag_to_dict_entries' in 'surgery.v3.__init__'. \")\n",
    "default_replacement_flag_dict"
   ]
  },
  {
   "cell_type": "code",
   "execution_count": 5,
   "metadata": {},
   "outputs": [
    {
     "name": "stderr",
     "output_type": "stream",
     "text": [
      "/home/a0491009/quantization/edgeai-modeloptimization/torchmodelopt/edgeai_torchmodelopt/xmodelopt/utils/optimization_base.py:10: UserWarning: OptimizationBaseModule is a class. Some of the attributes (non-methods) in 'attrs' may not be of a class. They may be attributes of an object. If they are passed, they will be discarded.\n",
      "  warnings.warn(f\"{src.__name__} is a class. Some of the attributes (non-methods) in 'attrs' may not be of a class. They may be attributes of an object. If they are passed, they will be discarded.\")\n"
     ]
    },
    {
     "name": "stdout",
     "output_type": "stream",
     "text": [
      "Dynamo Export Completed ! \n",
      "\n",
      "\n",
      "Model Preparation is now complete! \n"
     ]
    },
    {
     "name": "stderr",
     "output_type": "stream",
     "text": [
      "/home/a0491009/quantization/edgeai-modeloptimization/torchmodelopt/edgeai_torchmodelopt/xmodelopt/utils/optimization_base.py:10: UserWarning: OptimizationBaseModule is a class. Some of the attributes (non-methods) in 'attrs' may not be of a class. They may be attributes of an object. If they are passed, they will be discarded.\n",
      "  warnings.warn(f\"{src.__name__} is a class. Some of the attributes (non-methods) in 'attrs' may not be of a class. They may be attributes of an object. If they are passed, they will be discarded.\")\n"
     ]
    }
   ],
   "source": [
    "transformation_dict = None # provides the functionality to use the toolkit separately for each module of the model. \n",
    "                           # the transformation dict can be specified as dict(backbone=None, neck=None, bbox_head=None) \n",
    "                           # in mmdet or similar use cases\n",
    "qconfig_type = \"DEFAULT\" #MSA_WC8_AT8, WC8_AT8, WC8SYMP2_AT8SYMP2 # can be obtained from 'quantization.v3.qconfig_types'.\n",
    "copy_attrs = []\n",
    "example_inputs = [example_input]\n",
    "example_kwargs = {}\n",
    "# Both are supported formats for surgery_kwargs, can provide bool for the already defined mappings, else, \n",
    "# the mapping can be genarated and provided. The example for custom surgery function can be obtained from \n",
    "# 'gen_func_for_conv2d_even_kernel_to_odd' function from 'surgery.v3.custom_surgery_functions'.\n",
    "surgery_kwargs = dict(replacement_dict = \n",
    "                      {'relu_to_gelu' : {nn.ReLU: nn.GELU},\n",
    "                       'hardswish_to_relu' : True}\n",
    "                      )\n",
    "quantization_kwargs = dict(quantization_method='PTC', total_epochs=3, qconfig_type=qconfig_type, bias_calibration_factor=0.01, \n",
    "                           num_observer_update_epochs = 2, num_batch_norm_update_epochs = 1)\n",
    "            \n",
    "model = xmodelopt.apply_model_optimization(model, example_inputs, example_kwargs, model_surgery_version=3, \\\n",
    "                quantization_version=3, model_surgery_kwargs=surgery_kwargs, quantization_kwargs=quantization_kwargs, \n",
    "                transformation_dict=transformation_dict, copy_attrs=copy_attrs)\n",
    "            "
   ]
  },
  {
   "cell_type": "code",
   "execution_count": 6,
   "metadata": {},
   "outputs": [
    {
     "name": "stderr",
     "output_type": "stream",
     "text": [
      "  0%|          | 0/10 [00:00<?, ?it/s]"
     ]
    },
    {
     "name": "stderr",
     "output_type": "stream",
     "text": [
      "100%|██████████| 10/10 [00:05<00:00,  1.76it/s]\n"
     ]
    },
    {
     "name": "stdout",
     "output_type": "stream",
     "text": [
      "Freezing BN for subsequent epochs\n"
     ]
    },
    {
     "name": "stderr",
     "output_type": "stream",
     "text": [
      "100%|██████████| 10/10 [00:05<00:00,  1.67it/s]\n"
     ]
    },
    {
     "name": "stdout",
     "output_type": "stream",
     "text": [
      "Freezing ranges for subsequent epochs\n"
     ]
    },
    {
     "name": "stderr",
     "output_type": "stream",
     "text": [
      "100%|██████████| 10/10 [00:01<00:00,  6.22it/s]\n"
     ]
    }
   ],
   "source": [
    "num_calib_images = 10\n",
    "num_epochs = 3\n",
    "for epoch in range(num_epochs):\n",
    "    model.train()\n",
    "    for i in tqdm(range(num_calib_images)):\n",
    "        output = model(torch.rand(1,3,224,224))"
   ]
  },
  {
   "cell_type": "code",
   "execution_count": 7,
   "metadata": {},
   "outputs": [
    {
     "name": "stderr",
     "output_type": "stream",
     "text": [
      "W1023 16:32:09.577000 138670485233152 torch/_export/__init__.py:95] +============================+\n",
      "W1023 16:32:09.579000 138670485233152 torch/_export/__init__.py:96] |     !!!   WARNING   !!!    |\n",
      "W1023 16:32:09.579000 138670485233152 torch/_export/__init__.py:97] +============================+\n",
      "W1023 16:32:09.580000 138670485233152 torch/_export/__init__.py:98] capture_pre_autograd_graph() is deprecated and doesn't provide any function guarantee moving forward.\n",
      "W1023 16:32:09.581000 138670485233152 torch/_export/__init__.py:99] Please switch to use torch.export instead.\n"
     ]
    },
    {
     "name": "stdout",
     "output_type": "stream",
     "text": [
      "The loss branch is not getting removed in the model, exporting normally.\n"
     ]
    },
    {
     "name": "stderr",
     "output_type": "stream",
     "text": [
      "/home/a0491009/quantization/edgeai-modeloptimization/torchmodelopt/edgeai_torchmodelopt/xmodelopt/quantization/v3/quant_func.py:302: UserWarning: model has already been converted before calling export. make sure it is done correctly.\n",
      "  warnings.warn(\"model has already been converted before calling export. make sure it is done correctly.\")\n",
      "/home/a0491009/.pyenv/versions/3.10.13/envs/quant/lib/python3.10/site-packages/torch/onnx/utils.py:860: UserWarning: It is recommended that constant folding be turned off ('do_constant_folding=False') when exporting the model in training-amenable mode, i.e. with 'training=TrainingMode.TRAIN' or 'training=TrainingMode.PRESERVE' (when model is in training mode). Otherwise, some learnable model parameters may not translate correctly in the exported ONNX model because constant folding mutates model parameters. Please consider turning off constant folding or setting the training=TrainingMode.EVAL.\n",
      "  warnings.warn(\n",
      "[W1023 16:32:13.590851751 shape_type_inference.cpp:1998] Warning: The shape inference of prim::TupleConstruct type is missing, so it may result in wrong shape inference for the exported graph. Please consider adding it in symbolic function. (function UpdateReliable)\n",
      "[W1023 16:32:13.594835907 shape_type_inference.cpp:1998] Warning: The shape inference of prim::TupleConstruct type is missing, so it may result in wrong shape inference for the exported graph. Please consider adding it in symbolic function. (function UpdateReliable)\n",
      "[W1023 16:32:13.598746474 shape_type_inference.cpp:1998] Warning: The shape inference of prim::TupleConstruct type is missing, so it may result in wrong shape inference for the exported graph. Please consider adding it in symbolic function. (function UpdateReliable)\n",
      "[W1023 16:32:13.601733329 shape_type_inference.cpp:1998] Warning: The shape inference of prim::TupleConstruct type is missing, so it may result in wrong shape inference for the exported graph. Please consider adding it in symbolic function. (function UpdateReliable)\n",
      "[W1023 16:32:13.605131172 shape_type_inference.cpp:1998] Warning: The shape inference of prim::TupleConstruct type is missing, so it may result in wrong shape inference for the exported graph. Please consider adding it in symbolic function. (function UpdateReliable)\n",
      "[W1023 16:32:13.607802874 shape_type_inference.cpp:1998] Warning: The shape inference of prim::TupleConstruct type is missing, so it may result in wrong shape inference for the exported graph. Please consider adding it in symbolic function. (function UpdateReliable)\n",
      "[W1023 16:32:13.609895894 shape_type_inference.cpp:1998] Warning: The shape inference of prim::TupleConstruct type is missing, so it may result in wrong shape inference for the exported graph. Please consider adding it in symbolic function. (function UpdateReliable)\n",
      "[W1023 16:32:13.612733099 shape_type_inference.cpp:1998] Warning: The shape inference of prim::TupleConstruct type is missing, so it may result in wrong shape inference for the exported graph. Please consider adding it in symbolic function. (function UpdateReliable)\n",
      "[W1023 16:32:13.615428548 shape_type_inference.cpp:1998] Warning: The shape inference of prim::TupleConstruct type is missing, so it may result in wrong shape inference for the exported graph. Please consider adding it in symbolic function. (function UpdateReliable)\n",
      "[W1023 16:32:13.618732548 shape_type_inference.cpp:1998] Warning: The shape inference of prim::TupleConstruct type is missing, so it may result in wrong shape inference for the exported graph. Please consider adding it in symbolic function. (function UpdateReliable)\n",
      "[W1023 16:32:13.620864812 shape_type_inference.cpp:1998] Warning: The shape inference of prim::TupleConstruct type is missing, so it may result in wrong shape inference for the exported graph. Please consider adding it in symbolic function. (function UpdateReliable)\n",
      "[W1023 16:32:13.623593149 shape_type_inference.cpp:1998] Warning: The shape inference of prim::TupleConstruct type is missing, so it may result in wrong shape inference for the exported graph. Please consider adding it in symbolic function. (function UpdateReliable)\n",
      "[W1023 16:32:13.626231802 shape_type_inference.cpp:1998] Warning: The shape inference of prim::TupleConstruct type is missing, so it may result in wrong shape inference for the exported graph. Please consider adding it in symbolic function. (function UpdateReliable)\n",
      "[W1023 16:32:13.629671259 shape_type_inference.cpp:1998] Warning: The shape inference of prim::TupleConstruct type is missing, so it may result in wrong shape inference for the exported graph. Please consider adding it in symbolic function. (function UpdateReliable)\n",
      "[W1023 16:32:13.631786036 shape_type_inference.cpp:1998] Warning: The shape inference of prim::TupleConstruct type is missing, so it may result in wrong shape inference for the exported graph. Please consider adding it in symbolic function. (function UpdateReliable)\n",
      "[W1023 16:32:13.634436759 shape_type_inference.cpp:1998] Warning: The shape inference of prim::TupleConstruct type is missing, so it may result in wrong shape inference for the exported graph. Please consider adding it in symbolic function. (function UpdateReliable)\n",
      "[W1023 16:32:13.636761460 shape_type_inference.cpp:1998] Warning: The shape inference of prim::TupleConstruct type is missing, so it may result in wrong shape inference for the exported graph. Please consider adding it in symbolic function. (function UpdateReliable)\n",
      "[W1023 16:32:13.639412960 shape_type_inference.cpp:1998] Warning: The shape inference of prim::TupleConstruct type is missing, so it may result in wrong shape inference for the exported graph. Please consider adding it in symbolic function. (function UpdateReliable)\n",
      "[W1023 16:32:13.642086645 shape_type_inference.cpp:1998] Warning: The shape inference of prim::TupleConstruct type is missing, so it may result in wrong shape inference for the exported graph. Please consider adding it in symbolic function. (function UpdateReliable)\n",
      "[W1023 16:32:13.645307106 shape_type_inference.cpp:1998] Warning: The shape inference of prim::TupleConstruct type is missing, so it may result in wrong shape inference for the exported graph. Please consider adding it in symbolic function. (function UpdateReliable)\n",
      "[W1023 16:32:13.647392206 shape_type_inference.cpp:1998] Warning: The shape inference of prim::TupleConstruct type is missing, so it may result in wrong shape inference for the exported graph. Please consider adding it in symbolic function. (function UpdateReliable)\n",
      "[W1023 16:32:13.650146972 shape_type_inference.cpp:1998] Warning: The shape inference of prim::TupleConstruct type is missing, so it may result in wrong shape inference for the exported graph. Please consider adding it in symbolic function. (function UpdateReliable)\n",
      "[W1023 16:32:13.652885277 shape_type_inference.cpp:1998] Warning: The shape inference of prim::TupleConstruct type is missing, so it may result in wrong shape inference for the exported graph. Please consider adding it in symbolic function. (function UpdateReliable)\n",
      "[W1023 16:32:13.656112336 shape_type_inference.cpp:1998] Warning: The shape inference of prim::TupleConstruct type is missing, so it may result in wrong shape inference for the exported graph. Please consider adding it in symbolic function. (function UpdateReliable)\n",
      "[W1023 16:32:13.658170844 shape_type_inference.cpp:1998] Warning: The shape inference of prim::TupleConstruct type is missing, so it may result in wrong shape inference for the exported graph. Please consider adding it in symbolic function. (function UpdateReliable)\n",
      "[W1023 16:32:13.660874663 shape_type_inference.cpp:1998] Warning: The shape inference of prim::TupleConstruct type is missing, so it may result in wrong shape inference for the exported graph. Please consider adding it in symbolic function. (function UpdateReliable)\n",
      "[W1023 16:32:13.663530016 shape_type_inference.cpp:1998] Warning: The shape inference of prim::TupleConstruct type is missing, so it may result in wrong shape inference for the exported graph. Please consider adding it in symbolic function. (function UpdateReliable)\n",
      "[W1023 16:32:13.666558136 shape_type_inference.cpp:1998] Warning: The shape inference of prim::TupleConstruct type is missing, so it may result in wrong shape inference for the exported graph. Please consider adding it in symbolic function. (function UpdateReliable)\n",
      "[W1023 16:32:13.668703084 shape_type_inference.cpp:1998] Warning: The shape inference of prim::TupleConstruct type is missing, so it may result in wrong shape inference for the exported graph. Please consider adding it in symbolic function. (function UpdateReliable)\n",
      "[W1023 16:32:13.671424139 shape_type_inference.cpp:1998] Warning: The shape inference of prim::TupleConstruct type is missing, so it may result in wrong shape inference for the exported graph. Please consider adding it in symbolic function. (function UpdateReliable)\n",
      "[W1023 16:32:13.674296031 shape_type_inference.cpp:1998] Warning: The shape inference of prim::TupleConstruct type is missing, so it may result in wrong shape inference for the exported graph. Please consider adding it in symbolic function. (function UpdateReliable)\n",
      "[W1023 16:32:13.677324811 shape_type_inference.cpp:1998] Warning: The shape inference of prim::TupleConstruct type is missing, so it may result in wrong shape inference for the exported graph. Please consider adding it in symbolic function. (function UpdateReliable)\n",
      "[W1023 16:32:13.679373793 shape_type_inference.cpp:1998] Warning: The shape inference of prim::TupleConstruct type is missing, so it may result in wrong shape inference for the exported graph. Please consider adding it in symbolic function. (function UpdateReliable)\n",
      "[W1023 16:32:13.682010115 shape_type_inference.cpp:1998] Warning: The shape inference of prim::TupleConstruct type is missing, so it may result in wrong shape inference for the exported graph. Please consider adding it in symbolic function. (function UpdateReliable)\n",
      "[W1023 16:32:13.684609742 shape_type_inference.cpp:1998] Warning: The shape inference of prim::TupleConstruct type is missing, so it may result in wrong shape inference for the exported graph. Please consider adding it in symbolic function. (function UpdateReliable)\n",
      "[W1023 16:32:13.687813845 shape_type_inference.cpp:1998] Warning: The shape inference of prim::TupleConstruct type is missing, so it may result in wrong shape inference for the exported graph. Please consider adding it in symbolic function. (function UpdateReliable)\n",
      "[W1023 16:32:13.689980211 shape_type_inference.cpp:1998] Warning: The shape inference of prim::TupleConstruct type is missing, so it may result in wrong shape inference for the exported graph. Please consider adding it in symbolic function. (function UpdateReliable)\n",
      "[W1023 16:32:13.693870836 shape_type_inference.cpp:1998] Warning: The shape inference of prim::TupleConstruct type is missing, so it may result in wrong shape inference for the exported graph. Please consider adding it in symbolic function. (function UpdateReliable)\n",
      "[W1023 16:32:13.697855075 shape_type_inference.cpp:1998] Warning: The shape inference of prim::TupleConstruct type is missing, so it may result in wrong shape inference for the exported graph. Please consider adding it in symbolic function. (function UpdateReliable)\n",
      "[W1023 16:32:13.702539088 shape_type_inference.cpp:1998] Warning: The shape inference of prim::TupleConstruct type is missing, so it may result in wrong shape inference for the exported graph. Please consider adding it in symbolic function. (function UpdateReliable)\n",
      "[W1023 16:32:13.705590457 shape_type_inference.cpp:1998] Warning: The shape inference of prim::TupleConstruct type is missing, so it may result in wrong shape inference for the exported graph. Please consider adding it in symbolic function. (function UpdateReliable)\n",
      "[W1023 16:32:13.709608657 shape_type_inference.cpp:1998] Warning: The shape inference of prim::TupleConstruct type is missing, so it may result in wrong shape inference for the exported graph. Please consider adding it in symbolic function. (function UpdateReliable)\n",
      "[W1023 16:32:13.714031384 shape_type_inference.cpp:1998] Warning: The shape inference of prim::TupleConstruct type is missing, so it may result in wrong shape inference for the exported graph. Please consider adding it in symbolic function. (function UpdateReliable)\n",
      "[W1023 16:32:13.718799911 shape_type_inference.cpp:1998] Warning: The shape inference of prim::TupleConstruct type is missing, so it may result in wrong shape inference for the exported graph. Please consider adding it in symbolic function. (function UpdateReliable)\n",
      "[W1023 16:32:13.721853072 shape_type_inference.cpp:1998] Warning: The shape inference of prim::TupleConstruct type is missing, so it may result in wrong shape inference for the exported graph. Please consider adding it in symbolic function. (function UpdateReliable)\n",
      "[W1023 16:32:13.725900282 shape_type_inference.cpp:1998] Warning: The shape inference of prim::TupleConstruct type is missing, so it may result in wrong shape inference for the exported graph. Please consider adding it in symbolic function. (function UpdateReliable)\n",
      "[W1023 16:32:13.729859730 shape_type_inference.cpp:1998] Warning: The shape inference of prim::TupleConstruct type is missing, so it may result in wrong shape inference for the exported graph. Please consider adding it in symbolic function. (function UpdateReliable)\n",
      "[W1023 16:32:13.734603666 shape_type_inference.cpp:1998] Warning: The shape inference of prim::TupleConstruct type is missing, so it may result in wrong shape inference for the exported graph. Please consider adding it in symbolic function. (function UpdateReliable)\n",
      "[W1023 16:32:13.737736750 shape_type_inference.cpp:1998] Warning: The shape inference of prim::TupleConstruct type is missing, so it may result in wrong shape inference for the exported graph. Please consider adding it in symbolic function. (function UpdateReliable)\n",
      "[W1023 16:32:13.740572902 shape_type_inference.cpp:1998] Warning: The shape inference of prim::TupleConstruct type is missing, so it may result in wrong shape inference for the exported graph. Please consider adding it in symbolic function. (function UpdateReliable)\n",
      "[W1023 16:32:13.743292144 shape_type_inference.cpp:1998] Warning: The shape inference of prim::TupleConstruct type is missing, so it may result in wrong shape inference for the exported graph. Please consider adding it in symbolic function. (function UpdateReliable)\n",
      "[W1023 16:32:13.746422374 shape_type_inference.cpp:1998] Warning: The shape inference of prim::TupleConstruct type is missing, so it may result in wrong shape inference for the exported graph. Please consider adding it in symbolic function. (function UpdateReliable)\n",
      "[W1023 16:32:13.748580619 shape_type_inference.cpp:1998] Warning: The shape inference of prim::TupleConstruct type is missing, so it may result in wrong shape inference for the exported graph. Please consider adding it in symbolic function. (function UpdateReliable)\n",
      "[W1023 16:32:13.751255015 shape_type_inference.cpp:1998] Warning: The shape inference of prim::TupleConstruct type is missing, so it may result in wrong shape inference for the exported graph. Please consider adding it in symbolic function. (function UpdateReliable)\n",
      "[W1023 16:32:13.753667143 shape_type_inference.cpp:1998] Warning: The shape inference of prim::TupleConstruct type is missing, so it may result in wrong shape inference for the exported graph. Please consider adding it in symbolic function. (function UpdateReliable)\n",
      "[W1023 16:32:13.756391600 shape_type_inference.cpp:1998] Warning: The shape inference of prim::TupleConstruct type is missing, so it may result in wrong shape inference for the exported graph. Please consider adding it in symbolic function. (function UpdateReliable)\n",
      "[W1023 16:32:13.759256978 shape_type_inference.cpp:1998] Warning: The shape inference of prim::TupleConstruct type is missing, so it may result in wrong shape inference for the exported graph. Please consider adding it in symbolic function. (function UpdateReliable)\n",
      "[W1023 16:32:13.762372842 shape_type_inference.cpp:1998] Warning: The shape inference of prim::TupleConstruct type is missing, so it may result in wrong shape inference for the exported graph. Please consider adding it in symbolic function. (function UpdateReliable)\n",
      "[W1023 16:32:13.764504564 shape_type_inference.cpp:1998] Warning: The shape inference of prim::TupleConstruct type is missing, so it may result in wrong shape inference for the exported graph. Please consider adding it in symbolic function. (function UpdateReliable)\n",
      "[W1023 16:32:13.767203674 shape_type_inference.cpp:1998] Warning: The shape inference of prim::TupleConstruct type is missing, so it may result in wrong shape inference for the exported graph. Please consider adding it in symbolic function. (function UpdateReliable)\n",
      "[W1023 16:32:13.769769394 shape_type_inference.cpp:1998] Warning: The shape inference of prim::TupleConstruct type is missing, so it may result in wrong shape inference for the exported graph. Please consider adding it in symbolic function. (function UpdateReliable)\n",
      "[W1023 16:32:13.773038168 shape_type_inference.cpp:1998] Warning: The shape inference of prim::TupleConstruct type is missing, so it may result in wrong shape inference for the exported graph. Please consider adding it in symbolic function. (function UpdateReliable)\n",
      "[W1023 16:32:13.775185963 shape_type_inference.cpp:1998] Warning: The shape inference of prim::TupleConstruct type is missing, so it may result in wrong shape inference for the exported graph. Please consider adding it in symbolic function. (function UpdateReliable)\n",
      "[W1023 16:32:13.777780157 shape_type_inference.cpp:1998] Warning: The shape inference of prim::TupleConstruct type is missing, so it may result in wrong shape inference for the exported graph. Please consider adding it in symbolic function. (function UpdateReliable)\n",
      "[W1023 16:32:13.780496765 shape_type_inference.cpp:1998] Warning: The shape inference of prim::TupleConstruct type is missing, so it may result in wrong shape inference for the exported graph. Please consider adding it in symbolic function. (function UpdateReliable)\n",
      "[W1023 16:32:13.783766718 shape_type_inference.cpp:1998] Warning: The shape inference of prim::TupleConstruct type is missing, so it may result in wrong shape inference for the exported graph. Please consider adding it in symbolic function. (function UpdateReliable)\n",
      "[W1023 16:32:13.785874937 shape_type_inference.cpp:1998] Warning: The shape inference of prim::TupleConstruct type is missing, so it may result in wrong shape inference for the exported graph. Please consider adding it in symbolic function. (function UpdateReliable)\n",
      "[W1023 16:32:13.795365961 shape_type_inference.cpp:1998] Warning: The shape inference of prim::TupleConstruct type is missing, so it may result in wrong shape inference for the exported graph. Please consider adding it in symbolic function. (function UpdateReliable)\n",
      "[W1023 16:32:13.804121379 shape_type_inference.cpp:1998] Warning: The shape inference of prim::TupleConstruct type is missing, so it may result in wrong shape inference for the exported graph. Please consider adding it in symbolic function. (function UpdateReliable)\n",
      "[W1023 16:32:13.811956379 shape_type_inference.cpp:1998] Warning: The shape inference of prim::TupleConstruct type is missing, so it may result in wrong shape inference for the exported graph. Please consider adding it in symbolic function. (function UpdateReliable)\n",
      "[W1023 16:32:13.815898241 shape_type_inference.cpp:1998] Warning: The shape inference of prim::TupleConstruct type is missing, so it may result in wrong shape inference for the exported graph. Please consider adding it in symbolic function. (function UpdateReliable)\n",
      "[W1023 16:32:13.821244114 shape_type_inference.cpp:1998] Warning: The shape inference of prim::TupleConstruct type is missing, so it may result in wrong shape inference for the exported graph. Please consider adding it in symbolic function. (function UpdateReliable)\n",
      "[W1023 16:32:13.825132968 shape_type_inference.cpp:1998] Warning: The shape inference of prim::TupleConstruct type is missing, so it may result in wrong shape inference for the exported graph. Please consider adding it in symbolic function. (function UpdateReliable)\n",
      "[W1023 16:32:13.828865696 shape_type_inference.cpp:1998] Warning: The shape inference of prim::TupleConstruct type is missing, so it may result in wrong shape inference for the exported graph. Please consider adding it in symbolic function. (function UpdateReliable)\n",
      "[W1023 16:32:13.831443741 shape_type_inference.cpp:1998] Warning: The shape inference of prim::TupleConstruct type is missing, so it may result in wrong shape inference for the exported graph. Please consider adding it in symbolic function. (function UpdateReliable)\n",
      "[W1023 16:32:13.834696134 shape_type_inference.cpp:1998] Warning: The shape inference of prim::TupleConstruct type is missing, so it may result in wrong shape inference for the exported graph. Please consider adding it in symbolic function. (function UpdateReliable)\n",
      "[W1023 16:32:13.837467202 shape_type_inference.cpp:1998] Warning: The shape inference of prim::TupleConstruct type is missing, so it may result in wrong shape inference for the exported graph. Please consider adding it in symbolic function. (function UpdateReliable)\n",
      "[W1023 16:32:13.840624684 shape_type_inference.cpp:1998] Warning: The shape inference of prim::TupleConstruct type is missing, so it may result in wrong shape inference for the exported graph. Please consider adding it in symbolic function. (function UpdateReliable)\n",
      "[W1023 16:32:13.842781939 shape_type_inference.cpp:1998] Warning: The shape inference of prim::TupleConstruct type is missing, so it may result in wrong shape inference for the exported graph. Please consider adding it in symbolic function. (function UpdateReliable)\n",
      "[W1023 16:32:13.845398041 shape_type_inference.cpp:1998] Warning: The shape inference of prim::TupleConstruct type is missing, so it may result in wrong shape inference for the exported graph. Please consider adding it in symbolic function. (function UpdateReliable)\n",
      "[W1023 16:32:13.848275960 shape_type_inference.cpp:1998] Warning: The shape inference of prim::TupleConstruct type is missing, so it may result in wrong shape inference for the exported graph. Please consider adding it in symbolic function. (function UpdateReliable)\n",
      "[W1023 16:32:13.852517020 shape_type_inference.cpp:1998] Warning: The shape inference of prim::TupleConstruct type is missing, so it may result in wrong shape inference for the exported graph. Please consider adding it in symbolic function. (function UpdateReliable)\n",
      "[W1023 16:32:13.860586211 shape_type_inference.cpp:1998] Warning: The shape inference of prim::TupleConstruct type is missing, so it may result in wrong shape inference for the exported graph. Please consider adding it in symbolic function. (function UpdateReliable)\n",
      "[W1023 16:32:13.868009328 shape_type_inference.cpp:1998] Warning: The shape inference of prim::TupleConstruct type is missing, so it may result in wrong shape inference for the exported graph. Please consider adding it in symbolic function. (function UpdateReliable)\n",
      "[W1023 16:32:13.873618467 shape_type_inference.cpp:1998] Warning: The shape inference of prim::TupleConstruct type is missing, so it may result in wrong shape inference for the exported graph. Please consider adding it in symbolic function. (function UpdateReliable)\n",
      "[W1023 16:32:13.878639460 shape_type_inference.cpp:1998] Warning: The shape inference of prim::TupleConstruct type is missing, so it may result in wrong shape inference for the exported graph. Please consider adding it in symbolic function. (function UpdateReliable)\n",
      "[W1023 16:32:13.881640410 shape_type_inference.cpp:1998] Warning: The shape inference of prim::TupleConstruct type is missing, so it may result in wrong shape inference for the exported graph. Please consider adding it in symbolic function. (function UpdateReliable)\n",
      "[W1023 16:32:13.885468689 shape_type_inference.cpp:1998] Warning: The shape inference of prim::TupleConstruct type is missing, so it may result in wrong shape inference for the exported graph. Please consider adding it in symbolic function. (function UpdateReliable)\n",
      "[W1023 16:32:13.888089720 shape_type_inference.cpp:1998] Warning: The shape inference of prim::TupleConstruct type is missing, so it may result in wrong shape inference for the exported graph. Please consider adding it in symbolic function. (function UpdateReliable)\n",
      "[W1023 16:32:13.891163090 shape_type_inference.cpp:1998] Warning: The shape inference of prim::TupleConstruct type is missing, so it may result in wrong shape inference for the exported graph. Please consider adding it in symbolic function. (function UpdateReliable)\n",
      "[W1023 16:32:13.893249824 shape_type_inference.cpp:1998] Warning: The shape inference of prim::TupleConstruct type is missing, so it may result in wrong shape inference for the exported graph. Please consider adding it in symbolic function. (function UpdateReliable)\n",
      "[W1023 16:32:13.895936794 shape_type_inference.cpp:1998] Warning: The shape inference of prim::TupleConstruct type is missing, so it may result in wrong shape inference for the exported graph. Please consider adding it in symbolic function. (function UpdateReliable)\n",
      "[W1023 16:32:13.898583590 shape_type_inference.cpp:1998] Warning: The shape inference of prim::TupleConstruct type is missing, so it may result in wrong shape inference for the exported graph. Please consider adding it in symbolic function. (function UpdateReliable)\n",
      "[W1023 16:32:13.901675296 shape_type_inference.cpp:1998] Warning: The shape inference of prim::TupleConstruct type is missing, so it may result in wrong shape inference for the exported graph. Please consider adding it in symbolic function. (function UpdateReliable)\n",
      "[W1023 16:32:13.903762453 shape_type_inference.cpp:1998] Warning: The shape inference of prim::TupleConstruct type is missing, so it may result in wrong shape inference for the exported graph. Please consider adding it in symbolic function. (function UpdateReliable)\n",
      "[W1023 16:32:13.906271557 shape_type_inference.cpp:1998] Warning: The shape inference of prim::TupleConstruct type is missing, so it may result in wrong shape inference for the exported graph. Please consider adding it in symbolic function. (function UpdateReliable)\n",
      "[W1023 16:32:13.908744052 shape_type_inference.cpp:1998] Warning: The shape inference of prim::TupleConstruct type is missing, so it may result in wrong shape inference for the exported graph. Please consider adding it in symbolic function. (function UpdateReliable)\n",
      "[W1023 16:32:13.911791027 shape_type_inference.cpp:1998] Warning: The shape inference of prim::TupleConstruct type is missing, so it may result in wrong shape inference for the exported graph. Please consider adding it in symbolic function. (function UpdateReliable)\n",
      "[W1023 16:32:13.913884025 shape_type_inference.cpp:1998] Warning: The shape inference of prim::TupleConstruct type is missing, so it may result in wrong shape inference for the exported graph. Please consider adding it in symbolic function. (function UpdateReliable)\n",
      "[W1023 16:32:13.916636817 shape_type_inference.cpp:1998] Warning: The shape inference of prim::TupleConstruct type is missing, so it may result in wrong shape inference for the exported graph. Please consider adding it in symbolic function. (function UpdateReliable)\n",
      "[W1023 16:32:13.919177834 shape_type_inference.cpp:1998] Warning: The shape inference of prim::TupleConstruct type is missing, so it may result in wrong shape inference for the exported graph. Please consider adding it in symbolic function. (function UpdateReliable)\n",
      "[W1023 16:32:13.922259246 shape_type_inference.cpp:1998] Warning: The shape inference of prim::TupleConstruct type is missing, so it may result in wrong shape inference for the exported graph. Please consider adding it in symbolic function. (function UpdateReliable)\n",
      "[W1023 16:32:13.924350324 shape_type_inference.cpp:1998] Warning: The shape inference of prim::TupleConstruct type is missing, so it may result in wrong shape inference for the exported graph. Please consider adding it in symbolic function. (function UpdateReliable)\n",
      "[W1023 16:32:13.927035354 shape_type_inference.cpp:1998] Warning: The shape inference of prim::TupleConstruct type is missing, so it may result in wrong shape inference for the exported graph. Please consider adding it in symbolic function. (function UpdateReliable)\n",
      "[W1023 16:32:13.929408746 shape_type_inference.cpp:1998] Warning: The shape inference of prim::TupleConstruct type is missing, so it may result in wrong shape inference for the exported graph. Please consider adding it in symbolic function. (function UpdateReliable)\n",
      "[W1023 16:32:13.932028452 shape_type_inference.cpp:1998] Warning: The shape inference of prim::TupleConstruct type is missing, so it may result in wrong shape inference for the exported graph. Please consider adding it in symbolic function. (function UpdateReliable)\n",
      "[W1023 16:32:13.934878964 shape_type_inference.cpp:1998] Warning: The shape inference of prim::TupleConstruct type is missing, so it may result in wrong shape inference for the exported graph. Please consider adding it in symbolic function. (function UpdateReliable)\n",
      "[W1023 16:32:13.937993089 shape_type_inference.cpp:1998] Warning: The shape inference of prim::TupleConstruct type is missing, so it may result in wrong shape inference for the exported graph. Please consider adding it in symbolic function. (function UpdateReliable)\n",
      "[W1023 16:32:13.940093244 shape_type_inference.cpp:1998] Warning: The shape inference of prim::TupleConstruct type is missing, so it may result in wrong shape inference for the exported graph. Please consider adding it in symbolic function. (function UpdateReliable)\n",
      "[W1023 16:32:13.942786737 shape_type_inference.cpp:1998] Warning: The shape inference of prim::TupleConstruct type is missing, so it may result in wrong shape inference for the exported graph. Please consider adding it in symbolic function. (function UpdateReliable)\n",
      "[W1023 16:32:13.945378952 shape_type_inference.cpp:1998] Warning: The shape inference of prim::TupleConstruct type is missing, so it may result in wrong shape inference for the exported graph. Please consider adding it in symbolic function. (function UpdateReliable)\n",
      "[W1023 16:32:13.948497697 shape_type_inference.cpp:1998] Warning: The shape inference of prim::TupleConstruct type is missing, so it may result in wrong shape inference for the exported graph. Please consider adding it in symbolic function. (function UpdateReliable)\n",
      "[W1023 16:32:13.950594813 shape_type_inference.cpp:1998] Warning: The shape inference of prim::TupleConstruct type is missing, so it may result in wrong shape inference for the exported graph. Please consider adding it in symbolic function. (function UpdateReliable)\n",
      "[W1023 16:32:13.953173788 shape_type_inference.cpp:1998] Warning: The shape inference of prim::TupleConstruct type is missing, so it may result in wrong shape inference for the exported graph. Please consider adding it in symbolic function. (function UpdateReliable)\n",
      "[W1023 16:32:13.955710540 shape_type_inference.cpp:1998] Warning: The shape inference of prim::TupleConstruct type is missing, so it may result in wrong shape inference for the exported graph. Please consider adding it in symbolic function. (function UpdateReliable)\n",
      "[W1023 16:32:13.958770423 shape_type_inference.cpp:1998] Warning: The shape inference of prim::TupleConstruct type is missing, so it may result in wrong shape inference for the exported graph. Please consider adding it in symbolic function. (function UpdateReliable)\n",
      "[W1023 16:32:13.960859456 shape_type_inference.cpp:1998] Warning: The shape inference of prim::TupleConstruct type is missing, so it may result in wrong shape inference for the exported graph. Please consider adding it in symbolic function. (function UpdateReliable)\n",
      "[W1023 16:32:13.963712789 shape_type_inference.cpp:1998] Warning: The shape inference of prim::TupleConstruct type is missing, so it may result in wrong shape inference for the exported graph. Please consider adding it in symbolic function. (function UpdateReliable)\n",
      "[W1023 16:32:13.966398726 shape_type_inference.cpp:1998] Warning: The shape inference of prim::TupleConstruct type is missing, so it may result in wrong shape inference for the exported graph. Please consider adding it in symbolic function. (function UpdateReliable)\n",
      "[W1023 16:32:13.969443060 shape_type_inference.cpp:1998] Warning: The shape inference of prim::TupleConstruct type is missing, so it may result in wrong shape inference for the exported graph. Please consider adding it in symbolic function. (function UpdateReliable)\n",
      "[W1023 16:32:13.971494550 shape_type_inference.cpp:1998] Warning: The shape inference of prim::TupleConstruct type is missing, so it may result in wrong shape inference for the exported graph. Please consider adding it in symbolic function. (function UpdateReliable)\n",
      "[W1023 16:32:13.974058133 shape_type_inference.cpp:1998] Warning: The shape inference of prim::TupleConstruct type is missing, so it may result in wrong shape inference for the exported graph. Please consider adding it in symbolic function. (function UpdateReliable)\n",
      "[W1023 16:32:13.976556067 shape_type_inference.cpp:1998] Warning: The shape inference of prim::TupleConstruct type is missing, so it may result in wrong shape inference for the exported graph. Please consider adding it in symbolic function. (function UpdateReliable)\n",
      "[W1023 16:32:13.979636479 shape_type_inference.cpp:1998] Warning: The shape inference of prim::TupleConstruct type is missing, so it may result in wrong shape inference for the exported graph. Please consider adding it in symbolic function. (function UpdateReliable)\n",
      "[W1023 16:32:13.981681470 shape_type_inference.cpp:1998] Warning: The shape inference of prim::TupleConstruct type is missing, so it may result in wrong shape inference for the exported graph. Please consider adding it in symbolic function. (function UpdateReliable)\n",
      "[W1023 16:32:13.984360009 shape_type_inference.cpp:1998] Warning: The shape inference of prim::TupleConstruct type is missing, so it may result in wrong shape inference for the exported graph. Please consider adding it in symbolic function. (function UpdateReliable)\n",
      "[W1023 16:32:13.986963077 shape_type_inference.cpp:1998] Warning: The shape inference of prim::TupleConstruct type is missing, so it may result in wrong shape inference for the exported graph. Please consider adding it in symbolic function. (function UpdateReliable)\n",
      "[W1023 16:32:13.989990564 shape_type_inference.cpp:1998] Warning: The shape inference of prim::TupleConstruct type is missing, so it may result in wrong shape inference for the exported graph. Please consider adding it in symbolic function. (function UpdateReliable)\n",
      "[W1023 16:32:13.992045376 shape_type_inference.cpp:1998] Warning: The shape inference of prim::TupleConstruct type is missing, so it may result in wrong shape inference for the exported graph. Please consider adding it in symbolic function. (function UpdateReliable)\n",
      "[W1023 16:32:13.994609486 shape_type_inference.cpp:1998] Warning: The shape inference of prim::TupleConstruct type is missing, so it may result in wrong shape inference for the exported graph. Please consider adding it in symbolic function. (function UpdateReliable)\n",
      "[W1023 16:32:13.997281972 shape_type_inference.cpp:1998] Warning: The shape inference of prim::TupleConstruct type is missing, so it may result in wrong shape inference for the exported graph. Please consider adding it in symbolic function. (function UpdateReliable)\n",
      "[W1023 16:32:13.000317251 shape_type_inference.cpp:1998] Warning: The shape inference of prim::TupleConstruct type is missing, so it may result in wrong shape inference for the exported graph. Please consider adding it in symbolic function. (function UpdateReliable)\n",
      "[W1023 16:32:13.002370800 shape_type_inference.cpp:1998] Warning: The shape inference of prim::TupleConstruct type is missing, so it may result in wrong shape inference for the exported graph. Please consider adding it in symbolic function. (function UpdateReliable)\n",
      "[W1023 16:32:13.004873790 shape_type_inference.cpp:1998] Warning: The shape inference of prim::TupleConstruct type is missing, so it may result in wrong shape inference for the exported graph. Please consider adding it in symbolic function. (function UpdateReliable)\n",
      "[W1023 16:32:13.007541086 shape_type_inference.cpp:1998] Warning: The shape inference of prim::TupleConstruct type is missing, so it may result in wrong shape inference for the exported graph. Please consider adding it in symbolic function. (function UpdateReliable)\n",
      "[W1023 16:32:13.010591306 shape_type_inference.cpp:1998] Warning: The shape inference of prim::TupleConstruct type is missing, so it may result in wrong shape inference for the exported graph. Please consider adding it in symbolic function. (function UpdateReliable)\n",
      "[W1023 16:32:13.012652540 shape_type_inference.cpp:1998] Warning: The shape inference of prim::TupleConstruct type is missing, so it may result in wrong shape inference for the exported graph. Please consider adding it in symbolic function. (function UpdateReliable)\n",
      "[W1023 16:32:13.015330136 shape_type_inference.cpp:1998] Warning: The shape inference of prim::TupleConstruct type is missing, so it may result in wrong shape inference for the exported graph. Please consider adding it in symbolic function. (function UpdateReliable)\n",
      "[W1023 16:32:13.017933082 shape_type_inference.cpp:1998] Warning: The shape inference of prim::TupleConstruct type is missing, so it may result in wrong shape inference for the exported graph. Please consider adding it in symbolic function. (function UpdateReliable)\n",
      "[W1023 16:32:13.021051858 shape_type_inference.cpp:1998] Warning: The shape inference of prim::TupleConstruct type is missing, so it may result in wrong shape inference for the exported graph. Please consider adding it in symbolic function. (function UpdateReliable)\n",
      "[W1023 16:32:13.024009828 shape_type_inference.cpp:1998] Warning: The shape inference of prim::TupleConstruct type is missing, so it may result in wrong shape inference for the exported graph. Please consider adding it in symbolic function. (function UpdateReliable)\n",
      "[W1023 16:32:13.027464097 shape_type_inference.cpp:1998] Warning: The shape inference of prim::TupleConstruct type is missing, so it may result in wrong shape inference for the exported graph. Please consider adding it in symbolic function. (function UpdateReliable)\n",
      "[W1023 16:32:13.030290633 shape_type_inference.cpp:1998] Warning: The shape inference of prim::TupleConstruct type is missing, so it may result in wrong shape inference for the exported graph. Please consider adding it in symbolic function. (function UpdateReliable)\n",
      "[W1023 16:32:13.033377395 shape_type_inference.cpp:1998] Warning: The shape inference of prim::TupleConstruct type is missing, so it may result in wrong shape inference for the exported graph. Please consider adding it in symbolic function. (function UpdateReliable)\n",
      "[W1023 16:32:13.035423400 shape_type_inference.cpp:1998] Warning: The shape inference of prim::TupleConstruct type is missing, so it may result in wrong shape inference for the exported graph. Please consider adding it in symbolic function. (function UpdateReliable)\n",
      "[W1023 16:32:13.038070778 shape_type_inference.cpp:1998] Warning: The shape inference of prim::TupleConstruct type is missing, so it may result in wrong shape inference for the exported graph. Please consider adding it in symbolic function. (function UpdateReliable)\n",
      "[W1023 16:32:13.040755435 shape_type_inference.cpp:1998] Warning: The shape inference of prim::TupleConstruct type is missing, so it may result in wrong shape inference for the exported graph. Please consider adding it in symbolic function. (function UpdateReliable)\n",
      "[W1023 16:32:13.043843447 shape_type_inference.cpp:1998] Warning: The shape inference of prim::TupleConstruct type is missing, so it may result in wrong shape inference for the exported graph. Please consider adding it in symbolic function. (function UpdateReliable)\n",
      "[W1023 16:32:13.045924370 shape_type_inference.cpp:1998] Warning: The shape inference of prim::TupleConstruct type is missing, so it may result in wrong shape inference for the exported graph. Please consider adding it in symbolic function. (function UpdateReliable)\n",
      "[W1023 16:32:13.048512741 shape_type_inference.cpp:1998] Warning: The shape inference of prim::TupleConstruct type is missing, so it may result in wrong shape inference for the exported graph. Please consider adding it in symbolic function. (function UpdateReliable)\n",
      "[W1023 16:32:13.051183964 shape_type_inference.cpp:1998] Warning: The shape inference of prim::TupleConstruct type is missing, so it may result in wrong shape inference for the exported graph. Please consider adding it in symbolic function. (function UpdateReliable)\n",
      "[W1023 16:32:13.054218970 shape_type_inference.cpp:1998] Warning: The shape inference of prim::TupleConstruct type is missing, so it may result in wrong shape inference for the exported graph. Please consider adding it in symbolic function. (function UpdateReliable)\n",
      "[W1023 16:32:13.056588149 shape_type_inference.cpp:1998] Warning: The shape inference of prim::TupleConstruct type is missing, so it may result in wrong shape inference for the exported graph. Please consider adding it in symbolic function. (function UpdateReliable)\n",
      "[W1023 16:32:13.059130227 shape_type_inference.cpp:1998] Warning: The shape inference of prim::TupleConstruct type is missing, so it may result in wrong shape inference for the exported graph. Please consider adding it in symbolic function. (function UpdateReliable)\n",
      "[W1023 16:32:13.061803100 shape_type_inference.cpp:1998] Warning: The shape inference of prim::TupleConstruct type is missing, so it may result in wrong shape inference for the exported graph. Please consider adding it in symbolic function. (function UpdateReliable)\n",
      "[W1023 16:32:13.064831731 shape_type_inference.cpp:1998] Warning: The shape inference of prim::TupleConstruct type is missing, so it may result in wrong shape inference for the exported graph. Please consider adding it in symbolic function. (function UpdateReliable)\n",
      "[W1023 16:32:13.066876707 shape_type_inference.cpp:1998] Warning: The shape inference of prim::TupleConstruct type is missing, so it may result in wrong shape inference for the exported graph. Please consider adding it in symbolic function. (function UpdateReliable)\n",
      "[W1023 16:32:13.069422020 shape_type_inference.cpp:1998] Warning: The shape inference of prim::TupleConstruct type is missing, so it may result in wrong shape inference for the exported graph. Please consider adding it in symbolic function. (function UpdateReliable)\n",
      "[W1023 16:32:13.071950959 shape_type_inference.cpp:1998] Warning: The shape inference of prim::TupleConstruct type is missing, so it may result in wrong shape inference for the exported graph. Please consider adding it in symbolic function. (function UpdateReliable)\n",
      "[W1023 16:32:13.074982067 shape_type_inference.cpp:1998] Warning: The shape inference of prim::TupleConstruct type is missing, so it may result in wrong shape inference for the exported graph. Please consider adding it in symbolic function. (function UpdateReliable)\n",
      "[W1023 16:32:13.077038149 shape_type_inference.cpp:1998] Warning: The shape inference of prim::TupleConstruct type is missing, so it may result in wrong shape inference for the exported graph. Please consider adding it in symbolic function. (function UpdateReliable)\n",
      "[W1023 16:32:13.079579641 shape_type_inference.cpp:1998] Warning: The shape inference of prim::TupleConstruct type is missing, so it may result in wrong shape inference for the exported graph. Please consider adding it in symbolic function. (function UpdateReliable)\n",
      "[W1023 16:32:13.082242632 shape_type_inference.cpp:1998] Warning: The shape inference of prim::TupleConstruct type is missing, so it may result in wrong shape inference for the exported graph. Please consider adding it in symbolic function. (function UpdateReliable)\n",
      "[W1023 16:32:13.085319132 shape_type_inference.cpp:1998] Warning: The shape inference of prim::TupleConstruct type is missing, so it may result in wrong shape inference for the exported graph. Please consider adding it in symbolic function. (function UpdateReliable)\n",
      "[W1023 16:32:13.087441330 shape_type_inference.cpp:1998] Warning: The shape inference of prim::TupleConstruct type is missing, so it may result in wrong shape inference for the exported graph. Please consider adding it in symbolic function. (function UpdateReliable)\n",
      "[W1023 16:32:13.090128522 shape_type_inference.cpp:1998] Warning: The shape inference of prim::TupleConstruct type is missing, so it may result in wrong shape inference for the exported graph. Please consider adding it in symbolic function. (function UpdateReliable)\n",
      "[W1023 16:32:13.092847843 shape_type_inference.cpp:1998] Warning: The shape inference of prim::TupleConstruct type is missing, so it may result in wrong shape inference for the exported graph. Please consider adding it in symbolic function. (function UpdateReliable)\n",
      "[W1023 16:32:13.095921233 shape_type_inference.cpp:1998] Warning: The shape inference of prim::TupleConstruct type is missing, so it may result in wrong shape inference for the exported graph. Please consider adding it in symbolic function. (function UpdateReliable)\n",
      "[W1023 16:32:13.098018917 shape_type_inference.cpp:1998] Warning: The shape inference of prim::TupleConstruct type is missing, so it may result in wrong shape inference for the exported graph. Please consider adding it in symbolic function. (function UpdateReliable)\n",
      "[W1023 16:32:13.100580959 shape_type_inference.cpp:1998] Warning: The shape inference of prim::TupleConstruct type is missing, so it may result in wrong shape inference for the exported graph. Please consider adding it in symbolic function. (function UpdateReliable)\n",
      "[W1023 16:32:13.103528555 shape_type_inference.cpp:1998] Warning: The shape inference of prim::TupleConstruct type is missing, so it may result in wrong shape inference for the exported graph. Please consider adding it in symbolic function. (function UpdateReliable)\n",
      "[W1023 16:32:13.106555227 shape_type_inference.cpp:1998] Warning: The shape inference of prim::TupleConstruct type is missing, so it may result in wrong shape inference for the exported graph. Please consider adding it in symbolic function. (function UpdateReliable)\n",
      "[W1023 16:32:13.108595236 shape_type_inference.cpp:1998] Warning: The shape inference of prim::TupleConstruct type is missing, so it may result in wrong shape inference for the exported graph. Please consider adding it in symbolic function. (function UpdateReliable)\n",
      "[W1023 16:32:13.111129601 shape_type_inference.cpp:1998] Warning: The shape inference of prim::TupleConstruct type is missing, so it may result in wrong shape inference for the exported graph. Please consider adding it in symbolic function. (function UpdateReliable)\n",
      "[W1023 16:32:13.113648613 shape_type_inference.cpp:1998] Warning: The shape inference of prim::TupleConstruct type is missing, so it may result in wrong shape inference for the exported graph. Please consider adding it in symbolic function. (function UpdateReliable)\n",
      "[W1023 16:32:13.116712652 shape_type_inference.cpp:1998] Warning: The shape inference of prim::TupleConstruct type is missing, so it may result in wrong shape inference for the exported graph. Please consider adding it in symbolic function. (function UpdateReliable)\n",
      "[W1023 16:32:13.118746234 shape_type_inference.cpp:1998] Warning: The shape inference of prim::TupleConstruct type is missing, so it may result in wrong shape inference for the exported graph. Please consider adding it in symbolic function. (function UpdateReliable)\n",
      "[W1023 16:32:13.121418382 shape_type_inference.cpp:1998] Warning: The shape inference of prim::TupleConstruct type is missing, so it may result in wrong shape inference for the exported graph. Please consider adding it in symbolic function. (function UpdateReliable)\n",
      "[W1023 16:32:13.123745001 shape_type_inference.cpp:1998] Warning: The shape inference of prim::TupleConstruct type is missing, so it may result in wrong shape inference for the exported graph. Please consider adding it in symbolic function. (function UpdateReliable)\n",
      "[W1023 16:32:13.126265657 shape_type_inference.cpp:1998] Warning: The shape inference of prim::TupleConstruct type is missing, so it may result in wrong shape inference for the exported graph. Please consider adding it in symbolic function. (function UpdateReliable)\n",
      "[W1023 16:32:13.128923631 shape_type_inference.cpp:1998] Warning: The shape inference of prim::TupleConstruct type is missing, so it may result in wrong shape inference for the exported graph. Please consider adding it in symbolic function. (function UpdateReliable)\n",
      "[W1023 16:32:13.131987304 shape_type_inference.cpp:1998] Warning: The shape inference of prim::TupleConstruct type is missing, so it may result in wrong shape inference for the exported graph. Please consider adding it in symbolic function. (function UpdateReliable)\n",
      "[W1023 16:32:13.134034389 shape_type_inference.cpp:1998] Warning: The shape inference of prim::TupleConstruct type is missing, so it may result in wrong shape inference for the exported graph. Please consider adding it in symbolic function. (function UpdateReliable)\n",
      "[W1023 16:32:13.136660023 shape_type_inference.cpp:1998] Warning: The shape inference of prim::TupleConstruct type is missing, so it may result in wrong shape inference for the exported graph. Please consider adding it in symbolic function. (function UpdateReliable)\n",
      "[W1023 16:32:13.139271185 shape_type_inference.cpp:1998] Warning: The shape inference of prim::TupleConstruct type is missing, so it may result in wrong shape inference for the exported graph. Please consider adding it in symbolic function. (function UpdateReliable)\n",
      "[W1023 16:32:13.142306795 shape_type_inference.cpp:1998] Warning: The shape inference of prim::TupleConstruct type is missing, so it may result in wrong shape inference for the exported graph. Please consider adding it in symbolic function. (function UpdateReliable)\n",
      "[W1023 16:32:13.144654971 shape_type_inference.cpp:1998] Warning: The shape inference of prim::TupleConstruct type is missing, so it may result in wrong shape inference for the exported graph. Please consider adding it in symbolic function. (function UpdateReliable)\n",
      "[W1023 16:32:13.147325917 shape_type_inference.cpp:1998] Warning: The shape inference of prim::TupleConstruct type is missing, so it may result in wrong shape inference for the exported graph. Please consider adding it in symbolic function. (function UpdateReliable)\n",
      "[W1023 16:32:13.149800699 shape_type_inference.cpp:1998] Warning: The shape inference of prim::TupleConstruct type is missing, so it may result in wrong shape inference for the exported graph. Please consider adding it in symbolic function. (function UpdateReliable)\n",
      "[W1023 16:32:13.152815129 shape_type_inference.cpp:1998] Warning: The shape inference of prim::TupleConstruct type is missing, so it may result in wrong shape inference for the exported graph. Please consider adding it in symbolic function. (function UpdateReliable)\n",
      "[W1023 16:32:13.154844929 shape_type_inference.cpp:1998] Warning: The shape inference of prim::TupleConstruct type is missing, so it may result in wrong shape inference for the exported graph. Please consider adding it in symbolic function. (function UpdateReliable)\n",
      "[W1023 16:32:13.157468953 shape_type_inference.cpp:1998] Warning: The shape inference of prim::TupleConstruct type is missing, so it may result in wrong shape inference for the exported graph. Please consider adding it in symbolic function. (function UpdateReliable)\n",
      "[W1023 16:32:13.160222576 shape_type_inference.cpp:1998] Warning: The shape inference of prim::TupleConstruct type is missing, so it may result in wrong shape inference for the exported graph. Please consider adding it in symbolic function. (function UpdateReliable)\n",
      "[W1023 16:32:13.163244953 shape_type_inference.cpp:1998] Warning: The shape inference of prim::TupleConstruct type is missing, so it may result in wrong shape inference for the exported graph. Please consider adding it in symbolic function. (function UpdateReliable)\n",
      "[W1023 16:32:13.165293524 shape_type_inference.cpp:1998] Warning: The shape inference of prim::TupleConstruct type is missing, so it may result in wrong shape inference for the exported graph. Please consider adding it in symbolic function. (function UpdateReliable)\n",
      "[W1023 16:32:13.167910438 shape_type_inference.cpp:1998] Warning: The shape inference of prim::TupleConstruct type is missing, so it may result in wrong shape inference for the exported graph. Please consider adding it in symbolic function. (function UpdateReliable)\n",
      "[W1023 16:32:13.170571019 shape_type_inference.cpp:1998] Warning: The shape inference of prim::TupleConstruct type is missing, so it may result in wrong shape inference for the exported graph. Please consider adding it in symbolic function. (function UpdateReliable)\n",
      "[W1023 16:32:13.173593305 shape_type_inference.cpp:1998] Warning: The shape inference of prim::TupleConstruct type is missing, so it may result in wrong shape inference for the exported graph. Please consider adding it in symbolic function. (function UpdateReliable)\n",
      "[W1023 16:32:13.175688519 shape_type_inference.cpp:1998] Warning: The shape inference of prim::TupleConstruct type is missing, so it may result in wrong shape inference for the exported graph. Please consider adding it in symbolic function. (function UpdateReliable)\n",
      "[W1023 16:32:13.178206376 shape_type_inference.cpp:1998] Warning: The shape inference of prim::TupleConstruct type is missing, so it may result in wrong shape inference for the exported graph. Please consider adding it in symbolic function. (function UpdateReliable)\n",
      "[W1023 16:32:13.180802233 shape_type_inference.cpp:1998] Warning: The shape inference of prim::TupleConstruct type is missing, so it may result in wrong shape inference for the exported graph. Please consider adding it in symbolic function. (function UpdateReliable)\n",
      "[W1023 16:32:13.183817269 shape_type_inference.cpp:1998] Warning: The shape inference of prim::TupleConstruct type is missing, so it may result in wrong shape inference for the exported graph. Please consider adding it in symbolic function. (function UpdateReliable)\n",
      "[W1023 16:32:13.185991269 shape_type_inference.cpp:1998] Warning: The shape inference of prim::TupleConstruct type is missing, so it may result in wrong shape inference for the exported graph. Please consider adding it in symbolic function. (function UpdateReliable)\n",
      "[W1023 16:32:13.188620754 shape_type_inference.cpp:1998] Warning: The shape inference of prim::TupleConstruct type is missing, so it may result in wrong shape inference for the exported graph. Please consider adding it in symbolic function. (function UpdateReliable)\n",
      "[W1023 16:32:13.191440176 shape_type_inference.cpp:1998] Warning: The shape inference of prim::TupleConstruct type is missing, so it may result in wrong shape inference for the exported graph. Please consider adding it in symbolic function. (function UpdateReliable)\n",
      "[W1023 16:32:13.194454297 shape_type_inference.cpp:1998] Warning: The shape inference of prim::TupleConstruct type is missing, so it may result in wrong shape inference for the exported graph. Please consider adding it in symbolic function. (function UpdateReliable)\n",
      "[W1023 16:32:13.196803215 shape_type_inference.cpp:1998] Warning: The shape inference of prim::TupleConstruct type is missing, so it may result in wrong shape inference for the exported graph. Please consider adding it in symbolic function. (function UpdateReliable)\n",
      "[W1023 16:32:13.199237516 shape_type_inference.cpp:1998] Warning: The shape inference of prim::TupleConstruct type is missing, so it may result in wrong shape inference for the exported graph. Please consider adding it in symbolic function. (function UpdateReliable)\n",
      "[W1023 16:32:13.201273259 shape_type_inference.cpp:1998] Warning: The shape inference of prim::TupleConstruct type is missing, so it may result in wrong shape inference for the exported graph. Please consider adding it in symbolic function. (function UpdateReliable)\n",
      "[W1023 16:32:13.203586503 shape_type_inference.cpp:1998] Warning: The shape inference of prim::TupleConstruct type is missing, so it may result in wrong shape inference for the exported graph. Please consider adding it in symbolic function. (function UpdateReliable)\n",
      "[W1023 16:32:13.206440198 shape_type_inference.cpp:1998] Warning: The shape inference of prim::TupleConstruct type is missing, so it may result in wrong shape inference for the exported graph. Please consider adding it in symbolic function. (function UpdateReliable)\n"
     ]
    },
    {
     "name": "stdout",
     "output_type": "stream",
     "text": [
      "Stopping http://localhost:8080\n",
      "Serving './converted_simple_network_ptc.onnx' at http://localhost:8080\n"
     ]
    },
    {
     "data": {
      "text/plain": [
       "('localhost', 8080)"
      ]
     },
     "execution_count": 7,
     "metadata": {},
     "output_type": "execute_result"
    }
   ],
   "source": [
    "model_export_name = \"./converted_simple_network_ptc.onnx\"\n",
    "model.export(example_input, model_export_name)\n",
    "netron.start(model_export_name, 8080)\n"
   ]
  },
  {
   "cell_type": "code",
   "execution_count": null,
   "metadata": {},
   "outputs": [],
   "source": []
  }
 ],
 "metadata": {
  "kernelspec": {
   "display_name": "quant",
   "language": "python",
   "name": "python3"
  },
  "language_info": {
   "codemirror_mode": {
    "name": "ipython",
    "version": 3
   },
   "file_extension": ".py",
   "mimetype": "text/x-python",
   "name": "python",
   "nbconvert_exporter": "python",
   "pygments_lexer": "ipython3",
   "version": "3.10.13"
  }
 },
 "nbformat": 4,
 "nbformat_minor": 2
}
