{
 "cells": [
  {
   "cell_type": "code",
   "execution_count": 1,
   "metadata": {},
   "outputs": [
    {
     "name": "stdout",
     "output_type": "stream",
     "text": [
      "Requirement already satisfied: netron in /home/a0491009/.pyenv/versions/3.10.13/envs/quant/lib/python3.10/site-packages (7.8.3)\n"
     ]
    },
    {
     "name": "stderr",
     "output_type": "stream",
     "text": [
      "/home/a0491009/.pyenv/versions/quant/lib/python3.10/site-packages/tqdm-4.66.2-py3.10.egg/tqdm/auto.py:21: TqdmWarning: IProgress not found. Please update jupyter and ipywidgets. See https://ipywidgets.readthedocs.io/en/stable/user_install.html\n",
      "  from .autonotebook import tqdm as notebook_tqdm\n"
     ]
    }
   ],
   "source": [
    "!pip install netron\n",
    "\n",
    "import torch\n",
    "import torch.nn as nn\n",
    "from edgeai_torchmodelopt import xmodelopt\n",
    "import copy\n",
    "import netron\n",
    "import torchvision\n",
    "from tqdm import tqdm"
   ]
  },
  {
   "cell_type": "code",
   "execution_count": 2,
   "metadata": {},
   "outputs": [
    {
     "name": "stdout",
     "output_type": "stream",
     "text": [
      "Output Shape is : torch.Size([1, 1000])\n"
     ]
    }
   ],
   "source": [
    "model = torchvision.models.resnet50(weights='DEFAULT')\n",
    "loss_fn = nn.CrossEntropyLoss()\n",
    "optimizer = torch.optim.SGD(model.parameters(), lr=0.001, momentum=0.9)\n",
    "\n",
    "example_input = torch.rand((1, 3, 224, 224))\n",
    "\n",
    "y = model(example_input)\n",
    "print(\"Output Shape is : {}\".format(y.shape))"
   ]
  },
  {
   "cell_type": "code",
   "execution_count": 3,
   "metadata": {},
   "outputs": [
    {
     "name": "stdout",
     "output_type": "stream",
     "text": [
      "Serving './orig_simple_network_ptc.onnx' at http://localhost:8080\n"
     ]
    },
    {
     "data": {
      "text/plain": [
       "('localhost', 8080)"
      ]
     },
     "execution_count": 3,
     "metadata": {},
     "output_type": "execute_result"
    }
   ],
   "source": [
    "model_export_name = \"./orig_simple_network_ptc.onnx\"\n",
    "torch.onnx.export(model, example_input, model_export_name)\n",
    "netron.start(model_export_name, 8080)"
   ]
  },
  {
   "cell_type": "code",
   "execution_count": 4,
   "metadata": {},
   "outputs": [
    {
     "name": "stdout",
     "output_type": "stream",
     "text": [
      "The surgery provides some default replacements which can be used as is. Check the \n",
      "       mapping in 'flag_to_dict_entries' in 'surgery.v3.__init__'. \n"
     ]
    },
    {
     "data": {
      "text/plain": [
       "{'squeeze_and_excite_to_identity': True,\n",
       " 'all_activation_to_relu': False,\n",
       " 'relu_inplace_to_relu': True,\n",
       " 'gelu_to_relu': True,\n",
       " 'relu6_to_relu': True,\n",
       " 'silu_to_relu': True,\n",
       " 'hardswish_to_relu': True,\n",
       " 'hardsigmoid_to_relu': True,\n",
       " 'leakyrelu_to_relu': True,\n",
       " 'dropout_inplace_to_dropout': True,\n",
       " 'break_maxpool2d_with_kernel_size_greater_than_equalto_5': True,\n",
       " 'break_avgpool2d_with_kernel_size_greater_than_equalto_5': True,\n",
       " 'convert_resize_params_size_to_scale': True,\n",
       " 'promote_conv2d_with_even_kernel_to_larger_odd_kernel': False,\n",
       " 'break_conv2d_with_kernel_size_greater_than_7': False}"
      ]
     },
     "execution_count": 4,
     "metadata": {},
     "output_type": "execute_result"
    }
   ],
   "source": [
    "from edgeai_torchmodelopt.xmodelopt.surgery.v3 import default_replacement_flag_dict\n",
    "print(\"The surgery provides some default replacements which can be used as is. Check the \\n \\\n",
    "      mapping in 'flag_to_dict_entries' in 'surgery.v3.__init__'. \")\n",
    "default_replacement_flag_dict"
   ]
  },
  {
   "cell_type": "code",
   "execution_count": 5,
   "metadata": {},
   "outputs": [
    {
     "name": "stderr",
     "output_type": "stream",
     "text": [
      "/home/a0491009/quantization/edgeai-modeloptimization/torchmodelopt/edgeai_torchmodelopt/xmodelopt/utils/optimization_base.py:10: UserWarning: OptimizationBaseModule is a class. Some of the attributes (non-methods) in 'attrs' may not be of a class. They may be attributes of an object. If they are passed, they will be discarded.\n",
      "  warnings.warn(f\"{src.__name__} is a class. Some of the attributes (non-methods) in 'attrs' may not be of a class. They may be attributes of an object. If they are passed, they will be discarded.\")\n"
     ]
    },
    {
     "name": "stdout",
     "output_type": "stream",
     "text": [
      "Dynamo Export Completed ! \n",
      "\n",
      "\n",
      "Model Preparation is now complete! \n"
     ]
    },
    {
     "name": "stderr",
     "output_type": "stream",
     "text": [
      "/home/a0491009/quantization/edgeai-modeloptimization/torchmodelopt/edgeai_torchmodelopt/xmodelopt/utils/optimization_base.py:10: UserWarning: OptimizationBaseModule is a class. Some of the attributes (non-methods) in 'attrs' may not be of a class. They may be attributes of an object. If they are passed, they will be discarded.\n",
      "  warnings.warn(f\"{src.__name__} is a class. Some of the attributes (non-methods) in 'attrs' may not be of a class. They may be attributes of an object. If they are passed, they will be discarded.\")\n"
     ]
    }
   ],
   "source": [
    "transformation_dict = None # provides the functionality to use the toolkit separately for each module of the model. \n",
    "                           # the transformation dict can be specified as dict(backbone=None, neck=None, bbox_head=None) \n",
    "                           # in mmdet or similar use cases\n",
    "qconfig_type = \"DEFAULT\" #MSA_WC8_AT8, WC8_AT8, WC8SYMP2_AT8SYMP2 # can be obtained from 'quantization.v3.qconfig_types'.\n",
    "copy_attrs = []\n",
    "example_inputs = [example_input]\n",
    "example_kwargs = {}\n",
    "num_epochs = 5\n",
    "# Both are supported formats for surgery_kwargs, can provide bool for the already defined mappings, else, \n",
    "# the mapping can be genarated and provided. The example for custom surgery function can be obtained from \n",
    "# 'gen_func_for_conv2d_even_kernel_to_odd' function from 'surgery.v3.custom_surgery_functions'.\n",
    "surgery_kwargs = dict(replacement_dict = \n",
    "                      {'relu_to_gelu' : {nn.ReLU: nn.GELU},\n",
    "                       'hardswish_to_relu' : True}\n",
    "                      )\n",
    "quantization_kwargs = dict(quantization_method='QAT', total_epochs=num_epochs, qconfig_type=qconfig_type, bias_calibration_factor=0.01, \n",
    "                           num_observer_update_epochs = 2, num_batch_norm_update_epochs = 1)\n",
    "            \n",
    "model = xmodelopt.apply_model_optimization(model, example_inputs, example_kwargs, model_surgery_version=3, \\\n",
    "                quantization_version=3, model_surgery_kwargs=surgery_kwargs, quantization_kwargs=quantization_kwargs, \n",
    "                transformation_dict=transformation_dict, copy_attrs=copy_attrs)\n",
    "            "
   ]
  },
  {
   "cell_type": "code",
   "execution_count": 6,
   "metadata": {},
   "outputs": [
    {
     "name": "stderr",
     "output_type": "stream",
     "text": [
      "100%|██████████| 10/10 [00:06<00:00,  1.46it/s]\n"
     ]
    },
    {
     "name": "stdout",
     "output_type": "stream",
     "text": [
      "Freezing BN for subsequent epochs\n"
     ]
    },
    {
     "name": "stderr",
     "output_type": "stream",
     "text": [
      "100%|██████████| 10/10 [00:07<00:00,  1.42it/s]\n"
     ]
    },
    {
     "name": "stdout",
     "output_type": "stream",
     "text": [
      "Freezing ranges for subsequent epochs\n"
     ]
    },
    {
     "name": "stderr",
     "output_type": "stream",
     "text": [
      "100%|██████████| 10/10 [00:02<00:00,  4.00it/s]\n",
      "100%|██████████| 10/10 [00:02<00:00,  4.00it/s]\n",
      "100%|██████████| 10/10 [00:02<00:00,  3.82it/s]\n"
     ]
    }
   ],
   "source": [
    "num_train_images = 10\n",
    "for epoch in range(num_epochs):\n",
    "    model.train()\n",
    "    for i in tqdm(range(num_train_images)):\n",
    "        optimizer.zero_grad()\n",
    "        output = model(torch.rand(1,3,224,224))\n",
    "        label = torch.rand(1,1000)\n",
    "        loss = loss_fn(output, label) \n",
    "        loss.backward()\n",
    "        optimizer.step()"
   ]
  },
  {
   "cell_type": "code",
   "execution_count": 7,
   "metadata": {},
   "outputs": [
    {
     "name": "stderr",
     "output_type": "stream",
     "text": [
      "W1024 17:35:42.981000 139406018924032 torch/_export/__init__.py:95] +============================+\n",
      "W1024 17:35:42.982000 139406018924032 torch/_export/__init__.py:96] |     !!!   WARNING   !!!    |\n",
      "W1024 17:35:42.983000 139406018924032 torch/_export/__init__.py:97] +============================+\n",
      "W1024 17:35:42.984000 139406018924032 torch/_export/__init__.py:98] capture_pre_autograd_graph() is deprecated and doesn't provide any function guarantee moving forward.\n",
      "W1024 17:35:42.985000 139406018924032 torch/_export/__init__.py:99] Please switch to use torch.export instead.\n"
     ]
    },
    {
     "name": "stdout",
     "output_type": "stream",
     "text": [
      "The loss branch is not getting removed in the model, exporting normally.\n"
     ]
    },
    {
     "name": "stderr",
     "output_type": "stream",
     "text": [
      "/home/a0491009/quantization/edgeai-modeloptimization/torchmodelopt/edgeai_torchmodelopt/xmodelopt/quantization/v3/quant_func.py:302: UserWarning: model has already been converted before calling export. make sure it is done correctly.\n",
      "  warnings.warn(\"model has already been converted before calling export. make sure it is done correctly.\")\n",
      "/home/a0491009/.pyenv/versions/quant/lib/python3.10/site-packages/torch/onnx/utils.py:860: UserWarning: It is recommended that constant folding be turned off ('do_constant_folding=False') when exporting the model in training-amenable mode, i.e. with 'training=TrainingMode.TRAIN' or 'training=TrainingMode.PRESERVE' (when model is in training mode). Otherwise, some learnable model parameters may not translate correctly in the exported ONNX model because constant folding mutates model parameters. Please consider turning off constant folding or setting the training=TrainingMode.EVAL.\n",
      "  warnings.warn(\n",
      "[W1024 17:35:46.972257728 shape_type_inference.cpp:1998] Warning: The shape inference of prim::TupleConstruct type is missing, so it may result in wrong shape inference for the exported graph. Please consider adding it in symbolic function. (function UpdateReliable)\n",
      "[W1024 17:35:46.976582110 shape_type_inference.cpp:1998] Warning: The shape inference of prim::TupleConstruct type is missing, so it may result in wrong shape inference for the exported graph. Please consider adding it in symbolic function. (function UpdateReliable)\n",
      "[W1024 17:35:46.980814714 shape_type_inference.cpp:1998] Warning: The shape inference of prim::TupleConstruct type is missing, so it may result in wrong shape inference for the exported graph. Please consider adding it in symbolic function. (function UpdateReliable)\n",
      "[W1024 17:35:46.983984222 shape_type_inference.cpp:1998] Warning: The shape inference of prim::TupleConstruct type is missing, so it may result in wrong shape inference for the exported graph. Please consider adding it in symbolic function. (function UpdateReliable)\n",
      "[W1024 17:35:46.987594933 shape_type_inference.cpp:1998] Warning: The shape inference of prim::TupleConstruct type is missing, so it may result in wrong shape inference for the exported graph. Please consider adding it in symbolic function. (function UpdateReliable)\n",
      "[W1024 17:35:46.990424182 shape_type_inference.cpp:1998] Warning: The shape inference of prim::TupleConstruct type is missing, so it may result in wrong shape inference for the exported graph. Please consider adding it in symbolic function. (function UpdateReliable)\n",
      "[W1024 17:35:46.992622074 shape_type_inference.cpp:1998] Warning: The shape inference of prim::TupleConstruct type is missing, so it may result in wrong shape inference for the exported graph. Please consider adding it in symbolic function. (function UpdateReliable)\n",
      "[W1024 17:35:46.995568036 shape_type_inference.cpp:1998] Warning: The shape inference of prim::TupleConstruct type is missing, so it may result in wrong shape inference for the exported graph. Please consider adding it in symbolic function. (function UpdateReliable)\n",
      "[W1024 17:35:46.998365359 shape_type_inference.cpp:1998] Warning: The shape inference of prim::TupleConstruct type is missing, so it may result in wrong shape inference for the exported graph. Please consider adding it in symbolic function. (function UpdateReliable)\n",
      "[W1024 17:35:46.001784248 shape_type_inference.cpp:1998] Warning: The shape inference of prim::TupleConstruct type is missing, so it may result in wrong shape inference for the exported graph. Please consider adding it in symbolic function. (function UpdateReliable)\n",
      "[W1024 17:35:46.003879589 shape_type_inference.cpp:1998] Warning: The shape inference of prim::TupleConstruct type is missing, so it may result in wrong shape inference for the exported graph. Please consider adding it in symbolic function. (function UpdateReliable)\n",
      "[W1024 17:35:46.006786511 shape_type_inference.cpp:1998] Warning: The shape inference of prim::TupleConstruct type is missing, so it may result in wrong shape inference for the exported graph. Please consider adding it in symbolic function. (function UpdateReliable)\n",
      "[W1024 17:35:46.009572515 shape_type_inference.cpp:1998] Warning: The shape inference of prim::TupleConstruct type is missing, so it may result in wrong shape inference for the exported graph. Please consider adding it in symbolic function. (function UpdateReliable)\n",
      "[W1024 17:35:46.013221000 shape_type_inference.cpp:1998] Warning: The shape inference of prim::TupleConstruct type is missing, so it may result in wrong shape inference for the exported graph. Please consider adding it in symbolic function. (function UpdateReliable)\n",
      "[W1024 17:35:46.015546930 shape_type_inference.cpp:1998] Warning: The shape inference of prim::TupleConstruct type is missing, so it may result in wrong shape inference for the exported graph. Please consider adding it in symbolic function. (function UpdateReliable)\n",
      "[W1024 17:35:46.018238868 shape_type_inference.cpp:1998] Warning: The shape inference of prim::TupleConstruct type is missing, so it may result in wrong shape inference for the exported graph. Please consider adding it in symbolic function. (function UpdateReliable)\n",
      "[W1024 17:35:46.020704691 shape_type_inference.cpp:1998] Warning: The shape inference of prim::TupleConstruct type is missing, so it may result in wrong shape inference for the exported graph. Please consider adding it in symbolic function. (function UpdateReliable)\n",
      "[W1024 17:35:46.023504147 shape_type_inference.cpp:1998] Warning: The shape inference of prim::TupleConstruct type is missing, so it may result in wrong shape inference for the exported graph. Please consider adding it in symbolic function. (function UpdateReliable)\n",
      "[W1024 17:35:46.026374724 shape_type_inference.cpp:1998] Warning: The shape inference of prim::TupleConstruct type is missing, so it may result in wrong shape inference for the exported graph. Please consider adding it in symbolic function. (function UpdateReliable)\n",
      "[W1024 17:35:46.029829592 shape_type_inference.cpp:1998] Warning: The shape inference of prim::TupleConstruct type is missing, so it may result in wrong shape inference for the exported graph. Please consider adding it in symbolic function. (function UpdateReliable)\n",
      "[W1024 17:35:46.032027848 shape_type_inference.cpp:1998] Warning: The shape inference of prim::TupleConstruct type is missing, so it may result in wrong shape inference for the exported graph. Please consider adding it in symbolic function. (function UpdateReliable)\n",
      "[W1024 17:35:46.034853943 shape_type_inference.cpp:1998] Warning: The shape inference of prim::TupleConstruct type is missing, so it may result in wrong shape inference for the exported graph. Please consider adding it in symbolic function. (function UpdateReliable)\n",
      "[W1024 17:35:46.037651848 shape_type_inference.cpp:1998] Warning: The shape inference of prim::TupleConstruct type is missing, so it may result in wrong shape inference for the exported graph. Please consider adding it in symbolic function. (function UpdateReliable)\n",
      "[W1024 17:35:46.040937239 shape_type_inference.cpp:1998] Warning: The shape inference of prim::TupleConstruct type is missing, so it may result in wrong shape inference for the exported graph. Please consider adding it in symbolic function. (function UpdateReliable)\n",
      "[W1024 17:35:46.043176426 shape_type_inference.cpp:1998] Warning: The shape inference of prim::TupleConstruct type is missing, so it may result in wrong shape inference for the exported graph. Please consider adding it in symbolic function. (function UpdateReliable)\n",
      "[W1024 17:35:46.046072711 shape_type_inference.cpp:1998] Warning: The shape inference of prim::TupleConstruct type is missing, so it may result in wrong shape inference for the exported graph. Please consider adding it in symbolic function. (function UpdateReliable)\n",
      "[W1024 17:35:46.048769220 shape_type_inference.cpp:1998] Warning: The shape inference of prim::TupleConstruct type is missing, so it may result in wrong shape inference for the exported graph. Please consider adding it in symbolic function. (function UpdateReliable)\n",
      "[W1024 17:35:46.052071618 shape_type_inference.cpp:1998] Warning: The shape inference of prim::TupleConstruct type is missing, so it may result in wrong shape inference for the exported graph. Please consider adding it in symbolic function. (function UpdateReliable)\n",
      "[W1024 17:35:46.054503639 shape_type_inference.cpp:1998] Warning: The shape inference of prim::TupleConstruct type is missing, so it may result in wrong shape inference for the exported graph. Please consider adding it in symbolic function. (function UpdateReliable)\n",
      "[W1024 17:35:46.057809227 shape_type_inference.cpp:1998] Warning: The shape inference of prim::TupleConstruct type is missing, so it may result in wrong shape inference for the exported graph. Please consider adding it in symbolic function. (function UpdateReliable)\n",
      "[W1024 17:35:46.061812819 shape_type_inference.cpp:1998] Warning: The shape inference of prim::TupleConstruct type is missing, so it may result in wrong shape inference for the exported graph. Please consider adding it in symbolic function. (function UpdateReliable)\n",
      "[W1024 17:35:46.065397897 shape_type_inference.cpp:1998] Warning: The shape inference of prim::TupleConstruct type is missing, so it may result in wrong shape inference for the exported graph. Please consider adding it in symbolic function. (function UpdateReliable)\n",
      "[W1024 17:35:46.067747498 shape_type_inference.cpp:1998] Warning: The shape inference of prim::TupleConstruct type is missing, so it may result in wrong shape inference for the exported graph. Please consider adding it in symbolic function. (function UpdateReliable)\n",
      "[W1024 17:35:46.070799733 shape_type_inference.cpp:1998] Warning: The shape inference of prim::TupleConstruct type is missing, so it may result in wrong shape inference for the exported graph. Please consider adding it in symbolic function. (function UpdateReliable)\n",
      "[W1024 17:35:46.073785984 shape_type_inference.cpp:1998] Warning: The shape inference of prim::TupleConstruct type is missing, so it may result in wrong shape inference for the exported graph. Please consider adding it in symbolic function. (function UpdateReliable)\n",
      "[W1024 17:35:46.077345698 shape_type_inference.cpp:1998] Warning: The shape inference of prim::TupleConstruct type is missing, so it may result in wrong shape inference for the exported graph. Please consider adding it in symbolic function. (function UpdateReliable)\n",
      "[W1024 17:35:46.079743074 shape_type_inference.cpp:1998] Warning: The shape inference of prim::TupleConstruct type is missing, so it may result in wrong shape inference for the exported graph. Please consider adding it in symbolic function. (function UpdateReliable)\n",
      "[W1024 17:35:46.082693877 shape_type_inference.cpp:1998] Warning: The shape inference of prim::TupleConstruct type is missing, so it may result in wrong shape inference for the exported graph. Please consider adding it in symbolic function. (function UpdateReliable)\n",
      "[W1024 17:35:46.085567448 shape_type_inference.cpp:1998] Warning: The shape inference of prim::TupleConstruct type is missing, so it may result in wrong shape inference for the exported graph. Please consider adding it in symbolic function. (function UpdateReliable)\n",
      "[W1024 17:35:46.088859288 shape_type_inference.cpp:1998] Warning: The shape inference of prim::TupleConstruct type is missing, so it may result in wrong shape inference for the exported graph. Please consider adding it in symbolic function. (function UpdateReliable)\n",
      "[W1024 17:35:46.091093483 shape_type_inference.cpp:1998] Warning: The shape inference of prim::TupleConstruct type is missing, so it may result in wrong shape inference for the exported graph. Please consider adding it in symbolic function. (function UpdateReliable)\n",
      "[W1024 17:35:46.093963714 shape_type_inference.cpp:1998] Warning: The shape inference of prim::TupleConstruct type is missing, so it may result in wrong shape inference for the exported graph. Please consider adding it in symbolic function. (function UpdateReliable)\n",
      "[W1024 17:35:46.097359598 shape_type_inference.cpp:1998] Warning: The shape inference of prim::TupleConstruct type is missing, so it may result in wrong shape inference for the exported graph. Please consider adding it in symbolic function. (function UpdateReliable)\n",
      "[W1024 17:35:46.100609450 shape_type_inference.cpp:1998] Warning: The shape inference of prim::TupleConstruct type is missing, so it may result in wrong shape inference for the exported graph. Please consider adding it in symbolic function. (function UpdateReliable)\n",
      "[W1024 17:35:46.102810945 shape_type_inference.cpp:1998] Warning: The shape inference of prim::TupleConstruct type is missing, so it may result in wrong shape inference for the exported graph. Please consider adding it in symbolic function. (function UpdateReliable)\n",
      "[W1024 17:35:46.105825506 shape_type_inference.cpp:1998] Warning: The shape inference of prim::TupleConstruct type is missing, so it may result in wrong shape inference for the exported graph. Please consider adding it in symbolic function. (function UpdateReliable)\n",
      "[W1024 17:35:46.108657246 shape_type_inference.cpp:1998] Warning: The shape inference of prim::TupleConstruct type is missing, so it may result in wrong shape inference for the exported graph. Please consider adding it in symbolic function. (function UpdateReliable)\n",
      "[W1024 17:35:46.111895401 shape_type_inference.cpp:1998] Warning: The shape inference of prim::TupleConstruct type is missing, so it may result in wrong shape inference for the exported graph. Please consider adding it in symbolic function. (function UpdateReliable)\n",
      "[W1024 17:35:46.114174171 shape_type_inference.cpp:1998] Warning: The shape inference of prim::TupleConstruct type is missing, so it may result in wrong shape inference for the exported graph. Please consider adding it in symbolic function. (function UpdateReliable)\n",
      "[W1024 17:35:46.116991946 shape_type_inference.cpp:1998] Warning: The shape inference of prim::TupleConstruct type is missing, so it may result in wrong shape inference for the exported graph. Please consider adding it in symbolic function. (function UpdateReliable)\n",
      "[W1024 17:35:46.119783270 shape_type_inference.cpp:1998] Warning: The shape inference of prim::TupleConstruct type is missing, so it may result in wrong shape inference for the exported graph. Please consider adding it in symbolic function. (function UpdateReliable)\n",
      "[W1024 17:35:46.123028872 shape_type_inference.cpp:1998] Warning: The shape inference of prim::TupleConstruct type is missing, so it may result in wrong shape inference for the exported graph. Please consider adding it in symbolic function. (function UpdateReliable)\n",
      "[W1024 17:35:46.125333843 shape_type_inference.cpp:1998] Warning: The shape inference of prim::TupleConstruct type is missing, so it may result in wrong shape inference for the exported graph. Please consider adding it in symbolic function. (function UpdateReliable)\n",
      "[W1024 17:35:46.128226230 shape_type_inference.cpp:1998] Warning: The shape inference of prim::TupleConstruct type is missing, so it may result in wrong shape inference for the exported graph. Please consider adding it in symbolic function. (function UpdateReliable)\n",
      "[W1024 17:35:46.130692407 shape_type_inference.cpp:1998] Warning: The shape inference of prim::TupleConstruct type is missing, so it may result in wrong shape inference for the exported graph. Please consider adding it in symbolic function. (function UpdateReliable)\n",
      "[W1024 17:35:46.133502585 shape_type_inference.cpp:1998] Warning: The shape inference of prim::TupleConstruct type is missing, so it may result in wrong shape inference for the exported graph. Please consider adding it in symbolic function. (function UpdateReliable)\n",
      "[W1024 17:35:46.136465012 shape_type_inference.cpp:1998] Warning: The shape inference of prim::TupleConstruct type is missing, so it may result in wrong shape inference for the exported graph. Please consider adding it in symbolic function. (function UpdateReliable)\n",
      "[W1024 17:35:46.139698423 shape_type_inference.cpp:1998] Warning: The shape inference of prim::TupleConstruct type is missing, so it may result in wrong shape inference for the exported graph. Please consider adding it in symbolic function. (function UpdateReliable)\n",
      "[W1024 17:35:46.141861743 shape_type_inference.cpp:1998] Warning: The shape inference of prim::TupleConstruct type is missing, so it may result in wrong shape inference for the exported graph. Please consider adding it in symbolic function. (function UpdateReliable)\n",
      "[W1024 17:35:46.144829258 shape_type_inference.cpp:1998] Warning: The shape inference of prim::TupleConstruct type is missing, so it may result in wrong shape inference for the exported graph. Please consider adding it in symbolic function. (function UpdateReliable)\n",
      "[W1024 17:35:46.147621293 shape_type_inference.cpp:1998] Warning: The shape inference of prim::TupleConstruct type is missing, so it may result in wrong shape inference for the exported graph. Please consider adding it in symbolic function. (function UpdateReliable)\n",
      "[W1024 17:35:46.151255692 shape_type_inference.cpp:1998] Warning: The shape inference of prim::TupleConstruct type is missing, so it may result in wrong shape inference for the exported graph. Please consider adding it in symbolic function. (function UpdateReliable)\n",
      "[W1024 17:35:46.153435321 shape_type_inference.cpp:1998] Warning: The shape inference of prim::TupleConstruct type is missing, so it may result in wrong shape inference for the exported graph. Please consider adding it in symbolic function. (function UpdateReliable)\n",
      "[W1024 17:35:46.156107215 shape_type_inference.cpp:1998] Warning: The shape inference of prim::TupleConstruct type is missing, so it may result in wrong shape inference for the exported graph. Please consider adding it in symbolic function. (function UpdateReliable)\n",
      "[W1024 17:35:46.158844145 shape_type_inference.cpp:1998] Warning: The shape inference of prim::TupleConstruct type is missing, so it may result in wrong shape inference for the exported graph. Please consider adding it in symbolic function. (function UpdateReliable)\n",
      "[W1024 17:35:46.162230969 shape_type_inference.cpp:1998] Warning: The shape inference of prim::TupleConstruct type is missing, so it may result in wrong shape inference for the exported graph. Please consider adding it in symbolic function. (function UpdateReliable)\n",
      "[W1024 17:35:46.164419357 shape_type_inference.cpp:1998] Warning: The shape inference of prim::TupleConstruct type is missing, so it may result in wrong shape inference for the exported graph. Please consider adding it in symbolic function. (function UpdateReliable)\n",
      "[W1024 17:35:46.167565557 shape_type_inference.cpp:1998] Warning: The shape inference of prim::TupleConstruct type is missing, so it may result in wrong shape inference for the exported graph. Please consider adding it in symbolic function. (function UpdateReliable)\n",
      "[W1024 17:35:46.170545341 shape_type_inference.cpp:1998] Warning: The shape inference of prim::TupleConstruct type is missing, so it may result in wrong shape inference for the exported graph. Please consider adding it in symbolic function. (function UpdateReliable)\n",
      "[W1024 17:35:46.173785484 shape_type_inference.cpp:1998] Warning: The shape inference of prim::TupleConstruct type is missing, so it may result in wrong shape inference for the exported graph. Please consider adding it in symbolic function. (function UpdateReliable)\n",
      "[W1024 17:35:46.176988306 shape_type_inference.cpp:1998] Warning: The shape inference of prim::TupleConstruct type is missing, so it may result in wrong shape inference for the exported graph. Please consider adding it in symbolic function. (function UpdateReliable)\n",
      "[W1024 17:35:46.179743478 shape_type_inference.cpp:1998] Warning: The shape inference of prim::TupleConstruct type is missing, so it may result in wrong shape inference for the exported graph. Please consider adding it in symbolic function. (function UpdateReliable)\n",
      "[W1024 17:35:46.182496772 shape_type_inference.cpp:1998] Warning: The shape inference of prim::TupleConstruct type is missing, so it may result in wrong shape inference for the exported graph. Please consider adding it in symbolic function. (function UpdateReliable)\n",
      "[W1024 17:35:46.185601146 shape_type_inference.cpp:1998] Warning: The shape inference of prim::TupleConstruct type is missing, so it may result in wrong shape inference for the exported graph. Please consider adding it in symbolic function. (function UpdateReliable)\n",
      "[W1024 17:35:46.187894610 shape_type_inference.cpp:1998] Warning: The shape inference of prim::TupleConstruct type is missing, so it may result in wrong shape inference for the exported graph. Please consider adding it in symbolic function. (function UpdateReliable)\n",
      "[W1024 17:35:46.190732546 shape_type_inference.cpp:1998] Warning: The shape inference of prim::TupleConstruct type is missing, so it may result in wrong shape inference for the exported graph. Please consider adding it in symbolic function. (function UpdateReliable)\n",
      "[W1024 17:35:46.193446825 shape_type_inference.cpp:1998] Warning: The shape inference of prim::TupleConstruct type is missing, so it may result in wrong shape inference for the exported graph. Please consider adding it in symbolic function. (function UpdateReliable)\n",
      "[W1024 17:35:46.196689279 shape_type_inference.cpp:1998] Warning: The shape inference of prim::TupleConstruct type is missing, so it may result in wrong shape inference for the exported graph. Please consider adding it in symbolic function. (function UpdateReliable)\n",
      "[W1024 17:35:46.198856283 shape_type_inference.cpp:1998] Warning: The shape inference of prim::TupleConstruct type is missing, so it may result in wrong shape inference for the exported graph. Please consider adding it in symbolic function. (function UpdateReliable)\n",
      "[W1024 17:35:46.201656132 shape_type_inference.cpp:1998] Warning: The shape inference of prim::TupleConstruct type is missing, so it may result in wrong shape inference for the exported graph. Please consider adding it in symbolic function. (function UpdateReliable)\n",
      "[W1024 17:35:46.204494174 shape_type_inference.cpp:1998] Warning: The shape inference of prim::TupleConstruct type is missing, so it may result in wrong shape inference for the exported graph. Please consider adding it in symbolic function. (function UpdateReliable)\n",
      "[W1024 17:35:46.207720351 shape_type_inference.cpp:1998] Warning: The shape inference of prim::TupleConstruct type is missing, so it may result in wrong shape inference for the exported graph. Please consider adding it in symbolic function. (function UpdateReliable)\n",
      "[W1024 17:35:46.209959426 shape_type_inference.cpp:1998] Warning: The shape inference of prim::TupleConstruct type is missing, so it may result in wrong shape inference for the exported graph. Please consider adding it in symbolic function. (function UpdateReliable)\n",
      "[W1024 17:35:46.212615677 shape_type_inference.cpp:1998] Warning: The shape inference of prim::TupleConstruct type is missing, so it may result in wrong shape inference for the exported graph. Please consider adding it in symbolic function. (function UpdateReliable)\n",
      "[W1024 17:35:46.215284794 shape_type_inference.cpp:1998] Warning: The shape inference of prim::TupleConstruct type is missing, so it may result in wrong shape inference for the exported graph. Please consider adding it in symbolic function. (function UpdateReliable)\n",
      "[W1024 17:35:46.218496391 shape_type_inference.cpp:1998] Warning: The shape inference of prim::TupleConstruct type is missing, so it may result in wrong shape inference for the exported graph. Please consider adding it in symbolic function. (function UpdateReliable)\n",
      "[W1024 17:35:46.220666825 shape_type_inference.cpp:1998] Warning: The shape inference of prim::TupleConstruct type is missing, so it may result in wrong shape inference for the exported graph. Please consider adding it in symbolic function. (function UpdateReliable)\n",
      "[W1024 17:35:46.223423715 shape_type_inference.cpp:1998] Warning: The shape inference of prim::TupleConstruct type is missing, so it may result in wrong shape inference for the exported graph. Please consider adding it in symbolic function. (function UpdateReliable)\n",
      "[W1024 17:35:46.226091576 shape_type_inference.cpp:1998] Warning: The shape inference of prim::TupleConstruct type is missing, so it may result in wrong shape inference for the exported graph. Please consider adding it in symbolic function. (function UpdateReliable)\n",
      "[W1024 17:35:46.229283465 shape_type_inference.cpp:1998] Warning: The shape inference of prim::TupleConstruct type is missing, so it may result in wrong shape inference for the exported graph. Please consider adding it in symbolic function. (function UpdateReliable)\n",
      "[W1024 17:35:46.231494541 shape_type_inference.cpp:1998] Warning: The shape inference of prim::TupleConstruct type is missing, so it may result in wrong shape inference for the exported graph. Please consider adding it in symbolic function. (function UpdateReliable)\n",
      "[W1024 17:35:46.234268576 shape_type_inference.cpp:1998] Warning: The shape inference of prim::TupleConstruct type is missing, so it may result in wrong shape inference for the exported graph. Please consider adding it in symbolic function. (function UpdateReliable)\n",
      "[W1024 17:35:46.237085221 shape_type_inference.cpp:1998] Warning: The shape inference of prim::TupleConstruct type is missing, so it may result in wrong shape inference for the exported graph. Please consider adding it in symbolic function. (function UpdateReliable)\n",
      "[W1024 17:35:46.240408052 shape_type_inference.cpp:1998] Warning: The shape inference of prim::TupleConstruct type is missing, so it may result in wrong shape inference for the exported graph. Please consider adding it in symbolic function. (function UpdateReliable)\n",
      "[W1024 17:35:46.242624831 shape_type_inference.cpp:1998] Warning: The shape inference of prim::TupleConstruct type is missing, so it may result in wrong shape inference for the exported graph. Please consider adding it in symbolic function. (function UpdateReliable)\n",
      "[W1024 17:35:46.245394211 shape_type_inference.cpp:1998] Warning: The shape inference of prim::TupleConstruct type is missing, so it may result in wrong shape inference for the exported graph. Please consider adding it in symbolic function. (function UpdateReliable)\n",
      "[W1024 17:35:46.248133791 shape_type_inference.cpp:1998] Warning: The shape inference of prim::TupleConstruct type is missing, so it may result in wrong shape inference for the exported graph. Please consider adding it in symbolic function. (function UpdateReliable)\n",
      "[W1024 17:35:46.251300135 shape_type_inference.cpp:1998] Warning: The shape inference of prim::TupleConstruct type is missing, so it may result in wrong shape inference for the exported graph. Please consider adding it in symbolic function. (function UpdateReliable)\n",
      "[W1024 17:35:46.253459458 shape_type_inference.cpp:1998] Warning: The shape inference of prim::TupleConstruct type is missing, so it may result in wrong shape inference for the exported graph. Please consider adding it in symbolic function. (function UpdateReliable)\n",
      "[W1024 17:35:46.256226314 shape_type_inference.cpp:1998] Warning: The shape inference of prim::TupleConstruct type is missing, so it may result in wrong shape inference for the exported graph. Please consider adding it in symbolic function. (function UpdateReliable)\n",
      "[W1024 17:35:46.259463674 shape_type_inference.cpp:1998] Warning: The shape inference of prim::TupleConstruct type is missing, so it may result in wrong shape inference for the exported graph. Please consider adding it in symbolic function. (function UpdateReliable)\n",
      "[W1024 17:35:46.262645602 shape_type_inference.cpp:1998] Warning: The shape inference of prim::TupleConstruct type is missing, so it may result in wrong shape inference for the exported graph. Please consider adding it in symbolic function. (function UpdateReliable)\n",
      "[W1024 17:35:46.264813649 shape_type_inference.cpp:1998] Warning: The shape inference of prim::TupleConstruct type is missing, so it may result in wrong shape inference for the exported graph. Please consider adding it in symbolic function. (function UpdateReliable)\n",
      "[W1024 17:35:46.267458638 shape_type_inference.cpp:1998] Warning: The shape inference of prim::TupleConstruct type is missing, so it may result in wrong shape inference for the exported graph. Please consider adding it in symbolic function. (function UpdateReliable)\n",
      "[W1024 17:35:46.269903206 shape_type_inference.cpp:1998] Warning: The shape inference of prim::TupleConstruct type is missing, so it may result in wrong shape inference for the exported graph. Please consider adding it in symbolic function. (function UpdateReliable)\n",
      "[W1024 17:35:46.272564207 shape_type_inference.cpp:1998] Warning: The shape inference of prim::TupleConstruct type is missing, so it may result in wrong shape inference for the exported graph. Please consider adding it in symbolic function. (function UpdateReliable)\n",
      "[W1024 17:35:46.275525366 shape_type_inference.cpp:1998] Warning: The shape inference of prim::TupleConstruct type is missing, so it may result in wrong shape inference for the exported graph. Please consider adding it in symbolic function. (function UpdateReliable)\n",
      "[W1024 17:35:46.278696561 shape_type_inference.cpp:1998] Warning: The shape inference of prim::TupleConstruct type is missing, so it may result in wrong shape inference for the exported graph. Please consider adding it in symbolic function. (function UpdateReliable)\n",
      "[W1024 17:35:46.280840656 shape_type_inference.cpp:1998] Warning: The shape inference of prim::TupleConstruct type is missing, so it may result in wrong shape inference for the exported graph. Please consider adding it in symbolic function. (function UpdateReliable)\n",
      "[W1024 17:35:46.283647508 shape_type_inference.cpp:1998] Warning: The shape inference of prim::TupleConstruct type is missing, so it may result in wrong shape inference for the exported graph. Please consider adding it in symbolic function. (function UpdateReliable)\n",
      "[W1024 17:35:46.286376909 shape_type_inference.cpp:1998] Warning: The shape inference of prim::TupleConstruct type is missing, so it may result in wrong shape inference for the exported graph. Please consider adding it in symbolic function. (function UpdateReliable)\n",
      "[W1024 17:35:46.289596142 shape_type_inference.cpp:1998] Warning: The shape inference of prim::TupleConstruct type is missing, so it may result in wrong shape inference for the exported graph. Please consider adding it in symbolic function. (function UpdateReliable)\n",
      "[W1024 17:35:46.291744299 shape_type_inference.cpp:1998] Warning: The shape inference of prim::TupleConstruct type is missing, so it may result in wrong shape inference for the exported graph. Please consider adding it in symbolic function. (function UpdateReliable)\n",
      "[W1024 17:35:46.294374724 shape_type_inference.cpp:1998] Warning: The shape inference of prim::TupleConstruct type is missing, so it may result in wrong shape inference for the exported graph. Please consider adding it in symbolic function. (function UpdateReliable)\n",
      "[W1024 17:35:46.297105246 shape_type_inference.cpp:1998] Warning: The shape inference of prim::TupleConstruct type is missing, so it may result in wrong shape inference for the exported graph. Please consider adding it in symbolic function. (function UpdateReliable)\n",
      "[W1024 17:35:46.300257486 shape_type_inference.cpp:1998] Warning: The shape inference of prim::TupleConstruct type is missing, so it may result in wrong shape inference for the exported graph. Please consider adding it in symbolic function. (function UpdateReliable)\n",
      "[W1024 17:35:46.302423708 shape_type_inference.cpp:1998] Warning: The shape inference of prim::TupleConstruct type is missing, so it may result in wrong shape inference for the exported graph. Please consider adding it in symbolic function. (function UpdateReliable)\n",
      "[W1024 17:35:46.305239884 shape_type_inference.cpp:1998] Warning: The shape inference of prim::TupleConstruct type is missing, so it may result in wrong shape inference for the exported graph. Please consider adding it in symbolic function. (function UpdateReliable)\n",
      "[W1024 17:35:46.308064057 shape_type_inference.cpp:1998] Warning: The shape inference of prim::TupleConstruct type is missing, so it may result in wrong shape inference for the exported graph. Please consider adding it in symbolic function. (function UpdateReliable)\n",
      "[W1024 17:35:46.311272935 shape_type_inference.cpp:1998] Warning: The shape inference of prim::TupleConstruct type is missing, so it may result in wrong shape inference for the exported graph. Please consider adding it in symbolic function. (function UpdateReliable)\n",
      "[W1024 17:35:46.313429751 shape_type_inference.cpp:1998] Warning: The shape inference of prim::TupleConstruct type is missing, so it may result in wrong shape inference for the exported graph. Please consider adding it in symbolic function. (function UpdateReliable)\n",
      "[W1024 17:35:46.316062939 shape_type_inference.cpp:1998] Warning: The shape inference of prim::TupleConstruct type is missing, so it may result in wrong shape inference for the exported graph. Please consider adding it in symbolic function. (function UpdateReliable)\n",
      "[W1024 17:35:46.318680641 shape_type_inference.cpp:1998] Warning: The shape inference of prim::TupleConstruct type is missing, so it may result in wrong shape inference for the exported graph. Please consider adding it in symbolic function. (function UpdateReliable)\n",
      "[W1024 17:35:46.321909287 shape_type_inference.cpp:1998] Warning: The shape inference of prim::TupleConstruct type is missing, so it may result in wrong shape inference for the exported graph. Please consider adding it in symbolic function. (function UpdateReliable)\n",
      "[W1024 17:35:46.324080855 shape_type_inference.cpp:1998] Warning: The shape inference of prim::TupleConstruct type is missing, so it may result in wrong shape inference for the exported graph. Please consider adding it in symbolic function. (function UpdateReliable)\n",
      "[W1024 17:35:46.326847035 shape_type_inference.cpp:1998] Warning: The shape inference of prim::TupleConstruct type is missing, so it may result in wrong shape inference for the exported graph. Please consider adding it in symbolic function. (function UpdateReliable)\n",
      "[W1024 17:35:46.329486017 shape_type_inference.cpp:1998] Warning: The shape inference of prim::TupleConstruct type is missing, so it may result in wrong shape inference for the exported graph. Please consider adding it in symbolic function. (function UpdateReliable)\n",
      "[W1024 17:35:46.332636631 shape_type_inference.cpp:1998] Warning: The shape inference of prim::TupleConstruct type is missing, so it may result in wrong shape inference for the exported graph. Please consider adding it in symbolic function. (function UpdateReliable)\n",
      "[W1024 17:35:46.334789540 shape_type_inference.cpp:1998] Warning: The shape inference of prim::TupleConstruct type is missing, so it may result in wrong shape inference for the exported graph. Please consider adding it in symbolic function. (function UpdateReliable)\n",
      "[W1024 17:35:46.337474142 shape_type_inference.cpp:1998] Warning: The shape inference of prim::TupleConstruct type is missing, so it may result in wrong shape inference for the exported graph. Please consider adding it in symbolic function. (function UpdateReliable)\n",
      "[W1024 17:35:46.340270966 shape_type_inference.cpp:1998] Warning: The shape inference of prim::TupleConstruct type is missing, so it may result in wrong shape inference for the exported graph. Please consider adding it in symbolic function. (function UpdateReliable)\n",
      "[W1024 17:35:46.343427987 shape_type_inference.cpp:1998] Warning: The shape inference of prim::TupleConstruct type is missing, so it may result in wrong shape inference for the exported graph. Please consider adding it in symbolic function. (function UpdateReliable)\n",
      "[W1024 17:35:46.345587231 shape_type_inference.cpp:1998] Warning: The shape inference of prim::TupleConstruct type is missing, so it may result in wrong shape inference for the exported graph. Please consider adding it in symbolic function. (function UpdateReliable)\n",
      "[W1024 17:35:46.348227732 shape_type_inference.cpp:1998] Warning: The shape inference of prim::TupleConstruct type is missing, so it may result in wrong shape inference for the exported graph. Please consider adding it in symbolic function. (function UpdateReliable)\n",
      "[W1024 17:35:46.350951389 shape_type_inference.cpp:1998] Warning: The shape inference of prim::TupleConstruct type is missing, so it may result in wrong shape inference for the exported graph. Please consider adding it in symbolic function. (function UpdateReliable)\n",
      "[W1024 17:35:46.354161643 shape_type_inference.cpp:1998] Warning: The shape inference of prim::TupleConstruct type is missing, so it may result in wrong shape inference for the exported graph. Please consider adding it in symbolic function. (function UpdateReliable)\n",
      "[W1024 17:35:46.356321704 shape_type_inference.cpp:1998] Warning: The shape inference of prim::TupleConstruct type is missing, so it may result in wrong shape inference for the exported graph. Please consider adding it in symbolic function. (function UpdateReliable)\n",
      "[W1024 17:35:46.359074420 shape_type_inference.cpp:1998] Warning: The shape inference of prim::TupleConstruct type is missing, so it may result in wrong shape inference for the exported graph. Please consider adding it in symbolic function. (function UpdateReliable)\n",
      "[W1024 17:35:46.361787934 shape_type_inference.cpp:1998] Warning: The shape inference of prim::TupleConstruct type is missing, so it may result in wrong shape inference for the exported graph. Please consider adding it in symbolic function. (function UpdateReliable)\n",
      "[W1024 17:35:47.364945997 shape_type_inference.cpp:1998] Warning: The shape inference of prim::TupleConstruct type is missing, so it may result in wrong shape inference for the exported graph. Please consider adding it in symbolic function. (function UpdateReliable)\n",
      "[W1024 17:35:47.367109567 shape_type_inference.cpp:1998] Warning: The shape inference of prim::TupleConstruct type is missing, so it may result in wrong shape inference for the exported graph. Please consider adding it in symbolic function. (function UpdateReliable)\n",
      "[W1024 17:35:47.369871925 shape_type_inference.cpp:1998] Warning: The shape inference of prim::TupleConstruct type is missing, so it may result in wrong shape inference for the exported graph. Please consider adding it in symbolic function. (function UpdateReliable)\n",
      "[W1024 17:35:47.372786415 shape_type_inference.cpp:1998] Warning: The shape inference of prim::TupleConstruct type is missing, so it may result in wrong shape inference for the exported graph. Please consider adding it in symbolic function. (function UpdateReliable)\n",
      "[W1024 17:35:47.375954268 shape_type_inference.cpp:1998] Warning: The shape inference of prim::TupleConstruct type is missing, so it may result in wrong shape inference for the exported graph. Please consider adding it in symbolic function. (function UpdateReliable)\n",
      "[W1024 17:35:47.379108257 shape_type_inference.cpp:1998] Warning: The shape inference of prim::TupleConstruct type is missing, so it may result in wrong shape inference for the exported graph. Please consider adding it in symbolic function. (function UpdateReliable)\n",
      "[W1024 17:35:47.382500058 shape_type_inference.cpp:1998] Warning: The shape inference of prim::TupleConstruct type is missing, so it may result in wrong shape inference for the exported graph. Please consider adding it in symbolic function. (function UpdateReliable)\n",
      "[W1024 17:35:47.385257624 shape_type_inference.cpp:1998] Warning: The shape inference of prim::TupleConstruct type is missing, so it may result in wrong shape inference for the exported graph. Please consider adding it in symbolic function. (function UpdateReliable)\n",
      "[W1024 17:35:47.388443796 shape_type_inference.cpp:1998] Warning: The shape inference of prim::TupleConstruct type is missing, so it may result in wrong shape inference for the exported graph. Please consider adding it in symbolic function. (function UpdateReliable)\n",
      "[W1024 17:35:47.390617850 shape_type_inference.cpp:1998] Warning: The shape inference of prim::TupleConstruct type is missing, so it may result in wrong shape inference for the exported graph. Please consider adding it in symbolic function. (function UpdateReliable)\n",
      "[W1024 17:35:47.393255932 shape_type_inference.cpp:1998] Warning: The shape inference of prim::TupleConstruct type is missing, so it may result in wrong shape inference for the exported graph. Please consider adding it in symbolic function. (function UpdateReliable)\n",
      "[W1024 17:35:47.395976210 shape_type_inference.cpp:1998] Warning: The shape inference of prim::TupleConstruct type is missing, so it may result in wrong shape inference for the exported graph. Please consider adding it in symbolic function. (function UpdateReliable)\n",
      "[W1024 17:35:47.399130786 shape_type_inference.cpp:1998] Warning: The shape inference of prim::TupleConstruct type is missing, so it may result in wrong shape inference for the exported graph. Please consider adding it in symbolic function. (function UpdateReliable)\n",
      "[W1024 17:35:47.401314392 shape_type_inference.cpp:1998] Warning: The shape inference of prim::TupleConstruct type is missing, so it may result in wrong shape inference for the exported graph. Please consider adding it in symbolic function. (function UpdateReliable)\n",
      "[W1024 17:35:47.403945312 shape_type_inference.cpp:1998] Warning: The shape inference of prim::TupleConstruct type is missing, so it may result in wrong shape inference for the exported graph. Please consider adding it in symbolic function. (function UpdateReliable)\n",
      "[W1024 17:35:47.406736370 shape_type_inference.cpp:1998] Warning: The shape inference of prim::TupleConstruct type is missing, so it may result in wrong shape inference for the exported graph. Please consider adding it in symbolic function. (function UpdateReliable)\n",
      "[W1024 17:35:47.409890042 shape_type_inference.cpp:1998] Warning: The shape inference of prim::TupleConstruct type is missing, so it may result in wrong shape inference for the exported graph. Please consider adding it in symbolic function. (function UpdateReliable)\n",
      "[W1024 17:35:47.412050387 shape_type_inference.cpp:1998] Warning: The shape inference of prim::TupleConstruct type is missing, so it may result in wrong shape inference for the exported graph. Please consider adding it in symbolic function. (function UpdateReliable)\n",
      "[W1024 17:35:47.414810703 shape_type_inference.cpp:1998] Warning: The shape inference of prim::TupleConstruct type is missing, so it may result in wrong shape inference for the exported graph. Please consider adding it in symbolic function. (function UpdateReliable)\n",
      "[W1024 17:35:47.417413648 shape_type_inference.cpp:1998] Warning: The shape inference of prim::TupleConstruct type is missing, so it may result in wrong shape inference for the exported graph. Please consider adding it in symbolic function. (function UpdateReliable)\n",
      "[W1024 17:35:47.420587381 shape_type_inference.cpp:1998] Warning: The shape inference of prim::TupleConstruct type is missing, so it may result in wrong shape inference for the exported graph. Please consider adding it in symbolic function. (function UpdateReliable)\n",
      "[W1024 17:35:47.422749185 shape_type_inference.cpp:1998] Warning: The shape inference of prim::TupleConstruct type is missing, so it may result in wrong shape inference for the exported graph. Please consider adding it in symbolic function. (function UpdateReliable)\n",
      "[W1024 17:35:47.425490735 shape_type_inference.cpp:1998] Warning: The shape inference of prim::TupleConstruct type is missing, so it may result in wrong shape inference for the exported graph. Please consider adding it in symbolic function. (function UpdateReliable)\n",
      "[W1024 17:35:47.428103390 shape_type_inference.cpp:1998] Warning: The shape inference of prim::TupleConstruct type is missing, so it may result in wrong shape inference for the exported graph. Please consider adding it in symbolic function. (function UpdateReliable)\n",
      "[W1024 17:35:47.431286946 shape_type_inference.cpp:1998] Warning: The shape inference of prim::TupleConstruct type is missing, so it may result in wrong shape inference for the exported graph. Please consider adding it in symbolic function. (function UpdateReliable)\n",
      "[W1024 17:35:47.433479704 shape_type_inference.cpp:1998] Warning: The shape inference of prim::TupleConstruct type is missing, so it may result in wrong shape inference for the exported graph. Please consider adding it in symbolic function. (function UpdateReliable)\n",
      "[W1024 17:35:47.436231842 shape_type_inference.cpp:1998] Warning: The shape inference of prim::TupleConstruct type is missing, so it may result in wrong shape inference for the exported graph. Please consider adding it in symbolic function. (function UpdateReliable)\n",
      "[W1024 17:35:47.439042455 shape_type_inference.cpp:1998] Warning: The shape inference of prim::TupleConstruct type is missing, so it may result in wrong shape inference for the exported graph. Please consider adding it in symbolic function. (function UpdateReliable)\n",
      "[W1024 17:35:47.442193749 shape_type_inference.cpp:1998] Warning: The shape inference of prim::TupleConstruct type is missing, so it may result in wrong shape inference for the exported graph. Please consider adding it in symbolic function. (function UpdateReliable)\n",
      "[W1024 17:35:47.444367401 shape_type_inference.cpp:1998] Warning: The shape inference of prim::TupleConstruct type is missing, so it may result in wrong shape inference for the exported graph. Please consider adding it in symbolic function. (function UpdateReliable)\n",
      "[W1024 17:35:47.447909553 shape_type_inference.cpp:1998] Warning: The shape inference of prim::TupleConstruct type is missing, so it may result in wrong shape inference for the exported graph. Please consider adding it in symbolic function. (function UpdateReliable)\n",
      "[W1024 17:35:47.450526122 shape_type_inference.cpp:1998] Warning: The shape inference of prim::TupleConstruct type is missing, so it may result in wrong shape inference for the exported graph. Please consider adding it in symbolic function. (function UpdateReliable)\n",
      "[W1024 17:35:47.453680685 shape_type_inference.cpp:1998] Warning: The shape inference of prim::TupleConstruct type is missing, so it may result in wrong shape inference for the exported graph. Please consider adding it in symbolic function. (function UpdateReliable)\n",
      "[W1024 17:35:47.455820232 shape_type_inference.cpp:1998] Warning: The shape inference of prim::TupleConstruct type is missing, so it may result in wrong shape inference for the exported graph. Please consider adding it in symbolic function. (function UpdateReliable)\n",
      "[W1024 17:35:47.458588491 shape_type_inference.cpp:1998] Warning: The shape inference of prim::TupleConstruct type is missing, so it may result in wrong shape inference for the exported graph. Please consider adding it in symbolic function. (function UpdateReliable)\n",
      "[W1024 17:35:47.461189628 shape_type_inference.cpp:1998] Warning: The shape inference of prim::TupleConstruct type is missing, so it may result in wrong shape inference for the exported graph. Please consider adding it in symbolic function. (function UpdateReliable)\n",
      "[W1024 17:35:47.464374008 shape_type_inference.cpp:1998] Warning: The shape inference of prim::TupleConstruct type is missing, so it may result in wrong shape inference for the exported graph. Please consider adding it in symbolic function. (function UpdateReliable)\n",
      "[W1024 17:35:47.466530794 shape_type_inference.cpp:1998] Warning: The shape inference of prim::TupleConstruct type is missing, so it may result in wrong shape inference for the exported graph. Please consider adding it in symbolic function. (function UpdateReliable)\n",
      "[W1024 17:35:47.469287147 shape_type_inference.cpp:1998] Warning: The shape inference of prim::TupleConstruct type is missing, so it may result in wrong shape inference for the exported graph. Please consider adding it in symbolic function. (function UpdateReliable)\n",
      "[W1024 17:35:47.471722763 shape_type_inference.cpp:1998] Warning: The shape inference of prim::TupleConstruct type is missing, so it may result in wrong shape inference for the exported graph. Please consider adding it in symbolic function. (function UpdateReliable)\n",
      "[W1024 17:35:47.474353049 shape_type_inference.cpp:1998] Warning: The shape inference of prim::TupleConstruct type is missing, so it may result in wrong shape inference for the exported graph. Please consider adding it in symbolic function. (function UpdateReliable)\n",
      "[W1024 17:35:47.477128990 shape_type_inference.cpp:1998] Warning: The shape inference of prim::TupleConstruct type is missing, so it may result in wrong shape inference for the exported graph. Please consider adding it in symbolic function. (function UpdateReliable)\n",
      "[W1024 17:35:47.480322902 shape_type_inference.cpp:1998] Warning: The shape inference of prim::TupleConstruct type is missing, so it may result in wrong shape inference for the exported graph. Please consider adding it in symbolic function. (function UpdateReliable)\n",
      "[W1024 17:35:47.482469734 shape_type_inference.cpp:1998] Warning: The shape inference of prim::TupleConstruct type is missing, so it may result in wrong shape inference for the exported graph. Please consider adding it in symbolic function. (function UpdateReliable)\n",
      "[W1024 17:35:47.485109553 shape_type_inference.cpp:1998] Warning: The shape inference of prim::TupleConstruct type is missing, so it may result in wrong shape inference for the exported graph. Please consider adding it in symbolic function. (function UpdateReliable)\n",
      "[W1024 17:35:47.487701112 shape_type_inference.cpp:1998] Warning: The shape inference of prim::TupleConstruct type is missing, so it may result in wrong shape inference for the exported graph. Please consider adding it in symbolic function. (function UpdateReliable)\n",
      "[W1024 17:35:47.491186042 shape_type_inference.cpp:1998] Warning: The shape inference of prim::TupleConstruct type is missing, so it may result in wrong shape inference for the exported graph. Please consider adding it in symbolic function. (function UpdateReliable)\n",
      "[W1024 17:35:47.493370410 shape_type_inference.cpp:1998] Warning: The shape inference of prim::TupleConstruct type is missing, so it may result in wrong shape inference for the exported graph. Please consider adding it in symbolic function. (function UpdateReliable)\n",
      "[W1024 17:35:47.496054257 shape_type_inference.cpp:1998] Warning: The shape inference of prim::TupleConstruct type is missing, so it may result in wrong shape inference for the exported graph. Please consider adding it in symbolic function. (function UpdateReliable)\n",
      "[W1024 17:35:47.498764297 shape_type_inference.cpp:1998] Warning: The shape inference of prim::TupleConstruct type is missing, so it may result in wrong shape inference for the exported graph. Please consider adding it in symbolic function. (function UpdateReliable)\n",
      "[W1024 17:35:47.501888314 shape_type_inference.cpp:1998] Warning: The shape inference of prim::TupleConstruct type is missing, so it may result in wrong shape inference for the exported graph. Please consider adding it in symbolic function. (function UpdateReliable)\n",
      "[W1024 17:35:47.504046519 shape_type_inference.cpp:1998] Warning: The shape inference of prim::TupleConstruct type is missing, so it may result in wrong shape inference for the exported graph. Please consider adding it in symbolic function. (function UpdateReliable)\n",
      "[W1024 17:35:47.506672114 shape_type_inference.cpp:1998] Warning: The shape inference of prim::TupleConstruct type is missing, so it may result in wrong shape inference for the exported graph. Please consider adding it in symbolic function. (function UpdateReliable)\n",
      "[W1024 17:35:47.509562710 shape_type_inference.cpp:1998] Warning: The shape inference of prim::TupleConstruct type is missing, so it may result in wrong shape inference for the exported graph. Please consider adding it in symbolic function. (function UpdateReliable)\n",
      "[W1024 17:35:47.512752115 shape_type_inference.cpp:1998] Warning: The shape inference of prim::TupleConstruct type is missing, so it may result in wrong shape inference for the exported graph. Please consider adding it in symbolic function. (function UpdateReliable)\n",
      "[W1024 17:35:47.514885266 shape_type_inference.cpp:1998] Warning: The shape inference of prim::TupleConstruct type is missing, so it may result in wrong shape inference for the exported graph. Please consider adding it in symbolic function. (function UpdateReliable)\n",
      "[W1024 17:35:47.517639750 shape_type_inference.cpp:1998] Warning: The shape inference of prim::TupleConstruct type is missing, so it may result in wrong shape inference for the exported graph. Please consider adding it in symbolic function. (function UpdateReliable)\n",
      "[W1024 17:35:47.520205799 shape_type_inference.cpp:1998] Warning: The shape inference of prim::TupleConstruct type is missing, so it may result in wrong shape inference for the exported graph. Please consider adding it in symbolic function. (function UpdateReliable)\n",
      "[W1024 17:35:47.523343794 shape_type_inference.cpp:1998] Warning: The shape inference of prim::TupleConstruct type is missing, so it may result in wrong shape inference for the exported graph. Please consider adding it in symbolic function. (function UpdateReliable)\n",
      "[W1024 17:35:47.525492538 shape_type_inference.cpp:1998] Warning: The shape inference of prim::TupleConstruct type is missing, so it may result in wrong shape inference for the exported graph. Please consider adding it in symbolic function. (function UpdateReliable)\n",
      "[W1024 17:35:47.528160921 shape_type_inference.cpp:1998] Warning: The shape inference of prim::TupleConstruct type is missing, so it may result in wrong shape inference for the exported graph. Please consider adding it in symbolic function. (function UpdateReliable)\n",
      "[W1024 17:35:47.530870395 shape_type_inference.cpp:1998] Warning: The shape inference of prim::TupleConstruct type is missing, so it may result in wrong shape inference for the exported graph. Please consider adding it in symbolic function. (function UpdateReliable)\n",
      "[W1024 17:35:47.534023747 shape_type_inference.cpp:1998] Warning: The shape inference of prim::TupleConstruct type is missing, so it may result in wrong shape inference for the exported graph. Please consider adding it in symbolic function. (function UpdateReliable)\n",
      "[W1024 17:35:47.536355837 shape_type_inference.cpp:1998] Warning: The shape inference of prim::TupleConstruct type is missing, so it may result in wrong shape inference for the exported graph. Please consider adding it in symbolic function. (function UpdateReliable)\n",
      "[W1024 17:35:47.538987273 shape_type_inference.cpp:1998] Warning: The shape inference of prim::TupleConstruct type is missing, so it may result in wrong shape inference for the exported graph. Please consider adding it in symbolic function. (function UpdateReliable)\n",
      "[W1024 17:35:47.541818027 shape_type_inference.cpp:1998] Warning: The shape inference of prim::TupleConstruct type is missing, so it may result in wrong shape inference for the exported graph. Please consider adding it in symbolic function. (function UpdateReliable)\n",
      "[W1024 17:35:47.544968254 shape_type_inference.cpp:1998] Warning: The shape inference of prim::TupleConstruct type is missing, so it may result in wrong shape inference for the exported graph. Please consider adding it in symbolic function. (function UpdateReliable)\n",
      "[W1024 17:35:47.547426349 shape_type_inference.cpp:1998] Warning: The shape inference of prim::TupleConstruct type is missing, so it may result in wrong shape inference for the exported graph. Please consider adding it in symbolic function. (function UpdateReliable)\n",
      "[W1024 17:35:47.549952158 shape_type_inference.cpp:1998] Warning: The shape inference of prim::TupleConstruct type is missing, so it may result in wrong shape inference for the exported graph. Please consider adding it in symbolic function. (function UpdateReliable)\n",
      "[W1024 17:35:47.552096848 shape_type_inference.cpp:1998] Warning: The shape inference of prim::TupleConstruct type is missing, so it may result in wrong shape inference for the exported graph. Please consider adding it in symbolic function. (function UpdateReliable)\n",
      "[W1024 17:35:47.554521511 shape_type_inference.cpp:1998] Warning: The shape inference of prim::TupleConstruct type is missing, so it may result in wrong shape inference for the exported graph. Please consider adding it in symbolic function. (function UpdateReliable)\n",
      "[W1024 17:35:47.557506733 shape_type_inference.cpp:1998] Warning: The shape inference of prim::TupleConstruct type is missing, so it may result in wrong shape inference for the exported graph. Please consider adding it in symbolic function. (function UpdateReliable)\n"
     ]
    },
    {
     "name": "stdout",
     "output_type": "stream",
     "text": [
      "Stopping http://localhost:8080\n",
      "Serving './converted_simple_network_ptc.onnx' at http://localhost:8080\n"
     ]
    },
    {
     "data": {
      "text/plain": [
       "('localhost', 8080)"
      ]
     },
     "execution_count": 7,
     "metadata": {},
     "output_type": "execute_result"
    }
   ],
   "source": [
    "model_export_name = \"./converted_simple_network_qat.onnx\"\n",
    "model.export(example_input, model_export_name)\n",
    "netron.start(model_export_name, 8080)\n"
   ]
  },
  {
   "cell_type": "code",
   "execution_count": null,
   "metadata": {},
   "outputs": [],
   "source": []
  }
 ],
 "metadata": {
  "kernelspec": {
   "display_name": "quant",
   "language": "python",
   "name": "python3"
  },
  "language_info": {
   "codemirror_mode": {
    "name": "ipython",
    "version": 3
   },
   "file_extension": ".py",
   "mimetype": "text/x-python",
   "name": "python",
   "nbconvert_exporter": "python",
   "pygments_lexer": "ipython3",
   "version": "3.10.13"
  }
 },
 "nbformat": 4,
 "nbformat_minor": 2
}
